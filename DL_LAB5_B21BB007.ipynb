{
  "nbformat": 4,
  "nbformat_minor": 0,
  "metadata": {
    "colab": {
      "provenance": []
    },
    "kernelspec": {
      "name": "python3",
      "display_name": "Python 3"
    },
    "language_info": {
      "name": "python"
    }
  },
  "cells": [
    {
      "cell_type": "code",
      "execution_count": 5,
      "metadata": {
        "id": "zXkxBncYvphT"
      },
      "outputs": [],
      "source": [
        "#Libraries\n",
        "import numpy as np\n",
        "import pandas as pd\n",
        "import seaborn as sns\n",
        "from pylab import rcParams\n",
        "import matplotlib.pyplot as plt\n",
        "from matplotlib import rc\n",
        "from sklearn.preprocessing import MinMaxScaler\n",
        "from pandas.plotting import register_matplotlib_converters\n",
        "import torch\n",
        "import torch.nn as nn\n",
        "import torch.optim as optim\n",
        "import torch.nn.functional as F\n",
        "import torchvision\n",
        "import torchvision.transforms as transforms\n",
        "import numpy as np\n",
        "from torch.utils.data import Dataset, DataLoader\n",
        "import pandas as pd\n",
        "\n"
      ]
    },
    {
      "cell_type": "code",
      "source": [
        "device = torch.device('cuda' if torch.cuda.is_available() else 'cpu')"
      ],
      "metadata": {
        "id": "WeAVyG7RwQc9"
      },
      "execution_count": 6,
      "outputs": []
    },
    {
      "cell_type": "markdown",
      "source": [
        "##Data Handling"
      ],
      "metadata": {
        "id": "Hf0oyjzShTAl"
      }
    },
    {
      "cell_type": "code",
      "source": [
        "df = pd.read_csv(\"/content/shampoo_sales.csv\")"
      ],
      "metadata": {
        "id": "GQAcmfpOwnid"
      },
      "execution_count": 7,
      "outputs": []
    },
    {
      "cell_type": "code",
      "source": [
        "df.head()"
      ],
      "metadata": {
        "colab": {
          "base_uri": "https://localhost:8080/",
          "height": 221
        },
        "id": "Cg83HiulxAFB",
        "outputId": "c279e893-4755-4325-d47b-deeda2da1692"
      },
      "execution_count": 8,
      "outputs": [
        {
          "output_type": "execute_result",
          "data": {
            "text/plain": [
              "  Month  Sales\n",
              "0  1-01  266.0\n",
              "1  1-02  145.9\n",
              "2  1-03  183.1\n",
              "3  1-04  119.3\n",
              "4  1-05  180.3"
            ],
            "text/html": [
              "\n",
              "  <div id=\"df-f414b449-ec79-4060-839a-85f92a521758\" class=\"colab-df-container\">\n",
              "    <div>\n",
              "<style scoped>\n",
              "    .dataframe tbody tr th:only-of-type {\n",
              "        vertical-align: middle;\n",
              "    }\n",
              "\n",
              "    .dataframe tbody tr th {\n",
              "        vertical-align: top;\n",
              "    }\n",
              "\n",
              "    .dataframe thead th {\n",
              "        text-align: right;\n",
              "    }\n",
              "</style>\n",
              "<table border=\"1\" class=\"dataframe\">\n",
              "  <thead>\n",
              "    <tr style=\"text-align: right;\">\n",
              "      <th></th>\n",
              "      <th>Month</th>\n",
              "      <th>Sales</th>\n",
              "    </tr>\n",
              "  </thead>\n",
              "  <tbody>\n",
              "    <tr>\n",
              "      <th>0</th>\n",
              "      <td>1-01</td>\n",
              "      <td>266.0</td>\n",
              "    </tr>\n",
              "    <tr>\n",
              "      <th>1</th>\n",
              "      <td>1-02</td>\n",
              "      <td>145.9</td>\n",
              "    </tr>\n",
              "    <tr>\n",
              "      <th>2</th>\n",
              "      <td>1-03</td>\n",
              "      <td>183.1</td>\n",
              "    </tr>\n",
              "    <tr>\n",
              "      <th>3</th>\n",
              "      <td>1-04</td>\n",
              "      <td>119.3</td>\n",
              "    </tr>\n",
              "    <tr>\n",
              "      <th>4</th>\n",
              "      <td>1-05</td>\n",
              "      <td>180.3</td>\n",
              "    </tr>\n",
              "  </tbody>\n",
              "</table>\n",
              "</div>\n",
              "    <div class=\"colab-df-buttons\">\n",
              "\n",
              "  <div class=\"colab-df-container\">\n",
              "    <button class=\"colab-df-convert\" onclick=\"convertToInteractive('df-f414b449-ec79-4060-839a-85f92a521758')\"\n",
              "            title=\"Convert this dataframe to an interactive table.\"\n",
              "            style=\"display:none;\">\n",
              "\n",
              "  <svg xmlns=\"http://www.w3.org/2000/svg\" height=\"24px\" viewBox=\"0 -960 960 960\">\n",
              "    <path d=\"M120-120v-720h720v720H120Zm60-500h600v-160H180v160Zm220 220h160v-160H400v160Zm0 220h160v-160H400v160ZM180-400h160v-160H180v160Zm440 0h160v-160H620v160ZM180-180h160v-160H180v160Zm440 0h160v-160H620v160Z\"/>\n",
              "  </svg>\n",
              "    </button>\n",
              "\n",
              "  <style>\n",
              "    .colab-df-container {\n",
              "      display:flex;\n",
              "      gap: 12px;\n",
              "    }\n",
              "\n",
              "    .colab-df-convert {\n",
              "      background-color: #E8F0FE;\n",
              "      border: none;\n",
              "      border-radius: 50%;\n",
              "      cursor: pointer;\n",
              "      display: none;\n",
              "      fill: #1967D2;\n",
              "      height: 32px;\n",
              "      padding: 0 0 0 0;\n",
              "      width: 32px;\n",
              "    }\n",
              "\n",
              "    .colab-df-convert:hover {\n",
              "      background-color: #E2EBFA;\n",
              "      box-shadow: 0px 1px 2px rgba(60, 64, 67, 0.3), 0px 1px 3px 1px rgba(60, 64, 67, 0.15);\n",
              "      fill: #174EA6;\n",
              "    }\n",
              "\n",
              "    .colab-df-buttons div {\n",
              "      margin-bottom: 4px;\n",
              "    }\n",
              "\n",
              "    [theme=dark] .colab-df-convert {\n",
              "      background-color: #3B4455;\n",
              "      fill: #D2E3FC;\n",
              "    }\n",
              "\n",
              "    [theme=dark] .colab-df-convert:hover {\n",
              "      background-color: #434B5C;\n",
              "      box-shadow: 0px 1px 3px 1px rgba(0, 0, 0, 0.15);\n",
              "      filter: drop-shadow(0px 1px 2px rgba(0, 0, 0, 0.3));\n",
              "      fill: #FFFFFF;\n",
              "    }\n",
              "  </style>\n",
              "\n",
              "    <script>\n",
              "      const buttonEl =\n",
              "        document.querySelector('#df-f414b449-ec79-4060-839a-85f92a521758 button.colab-df-convert');\n",
              "      buttonEl.style.display =\n",
              "        google.colab.kernel.accessAllowed ? 'block' : 'none';\n",
              "\n",
              "      async function convertToInteractive(key) {\n",
              "        const element = document.querySelector('#df-f414b449-ec79-4060-839a-85f92a521758');\n",
              "        const dataTable =\n",
              "          await google.colab.kernel.invokeFunction('convertToInteractive',\n",
              "                                                    [key], {});\n",
              "        if (!dataTable) return;\n",
              "\n",
              "        const docLinkHtml = 'Like what you see? Visit the ' +\n",
              "          '<a target=\"_blank\" href=https://colab.research.google.com/notebooks/data_table.ipynb>data table notebook</a>'\n",
              "          + ' to learn more about interactive tables.';\n",
              "        element.innerHTML = '';\n",
              "        dataTable['output_type'] = 'display_data';\n",
              "        await google.colab.output.renderOutput(dataTable, element);\n",
              "        const docLink = document.createElement('div');\n",
              "        docLink.innerHTML = docLinkHtml;\n",
              "        element.appendChild(docLink);\n",
              "      }\n",
              "    </script>\n",
              "  </div>\n",
              "\n",
              "\n",
              "<div id=\"df-60ded17c-2a9a-4f64-a0ba-b8846c4a0281\">\n",
              "  <button class=\"colab-df-quickchart\" onclick=\"quickchart('df-60ded17c-2a9a-4f64-a0ba-b8846c4a0281')\"\n",
              "            title=\"Suggest charts\"\n",
              "            style=\"display:none;\">\n",
              "\n",
              "<svg xmlns=\"http://www.w3.org/2000/svg\" height=\"24px\"viewBox=\"0 0 24 24\"\n",
              "     width=\"24px\">\n",
              "    <g>\n",
              "        <path d=\"M19 3H5c-1.1 0-2 .9-2 2v14c0 1.1.9 2 2 2h14c1.1 0 2-.9 2-2V5c0-1.1-.9-2-2-2zM9 17H7v-7h2v7zm4 0h-2V7h2v10zm4 0h-2v-4h2v4z\"/>\n",
              "    </g>\n",
              "</svg>\n",
              "  </button>\n",
              "\n",
              "<style>\n",
              "  .colab-df-quickchart {\n",
              "      --bg-color: #E8F0FE;\n",
              "      --fill-color: #1967D2;\n",
              "      --hover-bg-color: #E2EBFA;\n",
              "      --hover-fill-color: #174EA6;\n",
              "      --disabled-fill-color: #AAA;\n",
              "      --disabled-bg-color: #DDD;\n",
              "  }\n",
              "\n",
              "  [theme=dark] .colab-df-quickchart {\n",
              "      --bg-color: #3B4455;\n",
              "      --fill-color: #D2E3FC;\n",
              "      --hover-bg-color: #434B5C;\n",
              "      --hover-fill-color: #FFFFFF;\n",
              "      --disabled-bg-color: #3B4455;\n",
              "      --disabled-fill-color: #666;\n",
              "  }\n",
              "\n",
              "  .colab-df-quickchart {\n",
              "    background-color: var(--bg-color);\n",
              "    border: none;\n",
              "    border-radius: 50%;\n",
              "    cursor: pointer;\n",
              "    display: none;\n",
              "    fill: var(--fill-color);\n",
              "    height: 32px;\n",
              "    padding: 0;\n",
              "    width: 32px;\n",
              "  }\n",
              "\n",
              "  .colab-df-quickchart:hover {\n",
              "    background-color: var(--hover-bg-color);\n",
              "    box-shadow: 0 1px 2px rgba(60, 64, 67, 0.3), 0 1px 3px 1px rgba(60, 64, 67, 0.15);\n",
              "    fill: var(--button-hover-fill-color);\n",
              "  }\n",
              "\n",
              "  .colab-df-quickchart-complete:disabled,\n",
              "  .colab-df-quickchart-complete:disabled:hover {\n",
              "    background-color: var(--disabled-bg-color);\n",
              "    fill: var(--disabled-fill-color);\n",
              "    box-shadow: none;\n",
              "  }\n",
              "\n",
              "  .colab-df-spinner {\n",
              "    border: 2px solid var(--fill-color);\n",
              "    border-color: transparent;\n",
              "    border-bottom-color: var(--fill-color);\n",
              "    animation:\n",
              "      spin 1s steps(1) infinite;\n",
              "  }\n",
              "\n",
              "  @keyframes spin {\n",
              "    0% {\n",
              "      border-color: transparent;\n",
              "      border-bottom-color: var(--fill-color);\n",
              "      border-left-color: var(--fill-color);\n",
              "    }\n",
              "    20% {\n",
              "      border-color: transparent;\n",
              "      border-left-color: var(--fill-color);\n",
              "      border-top-color: var(--fill-color);\n",
              "    }\n",
              "    30% {\n",
              "      border-color: transparent;\n",
              "      border-left-color: var(--fill-color);\n",
              "      border-top-color: var(--fill-color);\n",
              "      border-right-color: var(--fill-color);\n",
              "    }\n",
              "    40% {\n",
              "      border-color: transparent;\n",
              "      border-right-color: var(--fill-color);\n",
              "      border-top-color: var(--fill-color);\n",
              "    }\n",
              "    60% {\n",
              "      border-color: transparent;\n",
              "      border-right-color: var(--fill-color);\n",
              "    }\n",
              "    80% {\n",
              "      border-color: transparent;\n",
              "      border-right-color: var(--fill-color);\n",
              "      border-bottom-color: var(--fill-color);\n",
              "    }\n",
              "    90% {\n",
              "      border-color: transparent;\n",
              "      border-bottom-color: var(--fill-color);\n",
              "    }\n",
              "  }\n",
              "</style>\n",
              "\n",
              "  <script>\n",
              "    async function quickchart(key) {\n",
              "      const quickchartButtonEl =\n",
              "        document.querySelector('#' + key + ' button');\n",
              "      quickchartButtonEl.disabled = true;  // To prevent multiple clicks.\n",
              "      quickchartButtonEl.classList.add('colab-df-spinner');\n",
              "      try {\n",
              "        const charts = await google.colab.kernel.invokeFunction(\n",
              "            'suggestCharts', [key], {});\n",
              "      } catch (error) {\n",
              "        console.error('Error during call to suggestCharts:', error);\n",
              "      }\n",
              "      quickchartButtonEl.classList.remove('colab-df-spinner');\n",
              "      quickchartButtonEl.classList.add('colab-df-quickchart-complete');\n",
              "    }\n",
              "    (() => {\n",
              "      let quickchartButtonEl =\n",
              "        document.querySelector('#df-60ded17c-2a9a-4f64-a0ba-b8846c4a0281 button');\n",
              "      quickchartButtonEl.style.display =\n",
              "        google.colab.kernel.accessAllowed ? 'block' : 'none';\n",
              "    })();\n",
              "  </script>\n",
              "</div>\n",
              "    </div>\n",
              "  </div>\n"
            ],
            "application/vnd.google.colaboratory.intrinsic+json": {
              "type": "dataframe",
              "variable_name": "df",
              "summary": "{\n  \"name\": \"df\",\n  \"rows\": 36,\n  \"fields\": [\n    {\n      \"column\": \"Month\",\n      \"properties\": {\n        \"dtype\": \"string\",\n        \"num_unique_values\": 36,\n        \"samples\": [\n          \"3-12\",\n          \"2-02\",\n          \"3-03\"\n        ],\n        \"semantic_type\": \"\",\n        \"description\": \"\"\n      }\n    },\n    {\n      \"column\": \"Sales\",\n      \"properties\": {\n        \"dtype\": \"number\",\n        \"std\": 148.93716412347476,\n        \"min\": 119.3,\n        \"max\": 682.0,\n        \"num_unique_values\": 36,\n        \"samples\": [\n          646.9,\n          149.5,\n          315.9\n        ],\n        \"semantic_type\": \"\",\n        \"description\": \"\"\n      }\n    }\n  ]\n}"
            }
          },
          "metadata": {},
          "execution_count": 8
        }
      ]
    },
    {
      "source": [
        "from matplotlib import pyplot as plt\n",
        "df['Sales'].plot(kind='line', figsize=(8, 4), title='Sales')\n",
        "plt.gca().spines[['top', 'right']].set_visible(False)"
      ],
      "cell_type": "code",
      "execution_count": 9,
      "outputs": [
        {
          "output_type": "display_data",
          "data": {
            "text/plain": [
              "<Figure size 800x400 with 1 Axes>"
            ],
            "image/png": "[encoded data removed]"
          },
          "metadata": {}
        }
      ],
      "metadata": {
        "colab": {
          "base_uri": "https://localhost:8080/",
          "height": 412
        },
        "id": "0k6RLInyxGtk",
        "outputId": "aba38512-35a7-4457-9903-ebf553ba3210"
      }
    },
    {
      "cell_type": "code",
      "source": [
        "#check if the data has any missing values\n",
        "df.isnull().sum().sum()"
      ],
      "metadata": {
        "colab": {
          "base_uri": "https://localhost:8080/"
        },
        "id": "ZQyUSUGix5az",
        "outputId": "4ef1be91-2da0-4abc-c5cf-ea922bbc0986"
      },
      "execution_count": 10,
      "outputs": [
        {
          "output_type": "execute_result",
          "data": {
            "text/plain": [
              "0"
            ]
          },
          "metadata": {},
          "execution_count": 10
        }
      ]
    },
    {
      "cell_type": "markdown",
      "source": [
        "Custom DataLoader"
      ],
      "metadata": {
        "id": "5LX6xZ96hs8w"
      }
    },
    {
      "cell_type": "code",
      "source": [
        "class ShampooSalesDataset(Dataset):\n",
        "    def __init__(self, df, sequence_length):\n",
        "        self.sequence_length = sequence_length\n",
        "        self.df = df\n",
        "        # Using minmaxscaler to normalize the sale values\n",
        "        self.scaler = MinMaxScaler()\n",
        "        self.scaler = self.scaler.fit(np.expand_dims(df[\"Sales\"], axis=1))\n",
        "        self.normalized_data = self.scaler.transform(np.expand_dims(df[\"Sales\"], axis=1))\n",
        "\n",
        "    def __len__(self):\n",
        "        return len(self.df) - self.sequence_length + 1\n",
        "\n",
        "    def __getitem__(self, idx):\n",
        "        idx_end = idx + self.sequence_length\n",
        "        input_sequence = self.normalized_data[idx:idx_end]\n",
        "        target_value = self.normalized_data[idx_end - 1]\n",
        "\n",
        "        #returning the input_sequence and normalized target values\n",
        "        return torch.FloatTensor(input_sequence), torch.FloatTensor(target_value)\n",
        "\n",
        "# df is the preprocessed DataFrame with 'Month' as the index and 'Sales' as the target variable\n",
        "sequence_length = 5\n",
        "shampoo_dataset = ShampooSalesDataset(df, sequence_length)\n"
      ],
      "metadata": {
        "id": "-rrbB_W80n_E"
      },
      "execution_count": 11,
      "outputs": []
    },
    {
      "cell_type": "markdown",
      "source": [
        "Data Splitting"
      ],
      "metadata": {
        "id": "_HBw87cziIHV"
      }
    },
    {
      "cell_type": "code",
      "source": [
        "# train, validation, and test sets\n",
        "train_size = int(0.7 * len(shampoo_dataset))\n",
        "validation_size = int(0.15 * len(shampoo_dataset))\n",
        "test_size = len(shampoo_dataset) - train_size - validation_size\n",
        "\n",
        "\n",
        "train_dataset, validation_dataset, test_dataset = torch.utils.data.random_split(\n",
        "    shampoo_dataset, [train_size, validation_size, test_size]\n",
        ")\n",
        "\n",
        "\n",
        "# Creating DataLoader instances\n",
        "batch_size = 64\n",
        "train_loader = DataLoader(train_dataset, batch_size=batch_size, shuffle=True)\n",
        "validation_loader = DataLoader(validation_dataset, batch_size=batch_size, shuffle=False)\n",
        "test_loader = DataLoader(test_dataset, batch_size=batch_size, shuffle=False)"
      ],
      "metadata": {
        "id": "1IE1xnmA3LJT"
      },
      "execution_count": 12,
      "outputs": []
    },
    {
      "cell_type": "code",
      "source": [
        "print(\"train size :\" , train_size)\n",
        "print(\"test size :\" , test_size)\n",
        "print(\"val size :\" , validation_size)"
      ],
      "metadata": {
        "colab": {
          "base_uri": "https://localhost:8080/"
        },
        "id": "h9ht8f9G3_0G",
        "outputId": "475420b3-25e3-42ca-b663-52f7988375fd"
      },
      "execution_count": 13,
      "outputs": [
        {
          "output_type": "stream",
          "name": "stdout",
          "text": [
            "train size : 22\n",
            "test size : 6\n",
            "val size : 4\n"
          ]
        }
      ]
    },
    {
      "cell_type": "markdown",
      "source": [
        "##LSTM Model"
      ],
      "metadata": {
        "id": "lxd0oK48iQQ8"
      }
    },
    {
      "cell_type": "code",
      "source": [
        "class SalesPredictor(nn.Module):\n",
        "\n",
        "  def __init__(self, n_features, n_hidden, sequence_length , n_layers=2):\n",
        "    super(SalesPredictor, self).__init__()\n",
        "\n",
        "    # Define the parameters for the LSTM and linear layers\n",
        "    self.n_hidden = n_hidden\n",
        "    self.seq_len = sequence_length\n",
        "    self.n_layers = n_layers\n",
        "\n",
        "    # LSTM layer to capture sequential patterns in the input data\n",
        "    self.lstm = nn.LSTM(\n",
        "      input_size=n_features,\n",
        "      hidden_size=n_hidden,\n",
        "      num_layers=n_layers,\n",
        "      dropout=0.2\n",
        "    )\n",
        "\n",
        "    # Linear layer for making predictions based on LSTM output\n",
        "    self.linear = nn.Linear(in_features=n_hidden, out_features=1)\n",
        "\n",
        "  def reset_hidden_state(self):\n",
        "    # Reset the hidden state of the LSTM when starting a new sequence\n",
        "    self.hidden = (\n",
        "        torch.zeros(self.n_layers, self.seq_len, self.n_hidden),\n",
        "        torch.zeros(self.n_layers, self.seq_len, self.n_hidden)\n",
        "    )\n",
        "\n",
        "  def forward(self, sequences):\n",
        "    # Forward pass through the LSTM and linear layers, pass the input sequence through the LSTM layer\n",
        "    lstm_out, self.hidden = self.lstm(\n",
        "      sequences.view(len(sequences), self.seq_len, -1),\n",
        "      self.hidden\n",
        "    )\n",
        "    last_time_step = \\\n",
        "      lstm_out.view(self.seq_len, len(sequences), self.n_hidden)[-1]\n",
        "    y_pred = self.linear(last_time_step)\n",
        "    return y_pred"
      ],
      "metadata": {
        "id": "xjb9uvO_6QgS"
      },
      "execution_count": 14,
      "outputs": []
    },
    {
      "cell_type": "code",
      "source": [
        "#Define model\n",
        "model = SalesPredictor(n_features=1,\n",
        "  n_hidden=64,\n",
        "  sequence_length=5,\n",
        "  n_layers=2).to(device)\n",
        "\n",
        "#Loss fuction\n",
        "criterion = torch.nn.MSELoss(reduction='sum')\n",
        "\n",
        "#Optimizer with lr 1e-3\n",
        "optimizer = torch.optim.Adam(model.parameters(), lr=1e-4)\n"
      ],
      "metadata": {
        "id": "-s11dPF88qiL"
      },
      "execution_count": 15,
      "outputs": []
    },
    {
      "cell_type": "code",
      "source": [
        "#Plot function\n",
        "def plot_loss(train_hist, validation_hist):\n",
        "    plt.figure(figsize=(10, 6))\n",
        "    plt.plot(train_hist, label='Training Loss', marker='o')\n",
        "    plt.plot(validation_hist, label='Validation Loss', marker='o')\n",
        "    plt.title('Training and Validation Loss')\n",
        "    plt.xlabel('Epoch')\n",
        "    plt.ylabel('Loss')\n",
        "    plt.legend()\n",
        "    plt.grid(True)\n",
        "    plt.show()"
      ],
      "metadata": {
        "id": "9SDZ4KGEjwMD"
      },
      "execution_count": 16,
      "outputs": []
    },
    {
      "cell_type": "code",
      "source": [
        "def train_model(num_epochs, model, train_loader, validation_loader, criterion, optimizer):\n",
        "    #List for storing the loss values\n",
        "    train_hist = np.zeros(num_epochs)\n",
        "    validation_hist = np.zeros(num_epochs)\n",
        "\n",
        "    for epoch in range(num_epochs):\n",
        "        model.reset_hidden_state()\n",
        "        epoch_loss = 0\n",
        "\n",
        "        # Training Loop\n",
        "        model.train()\n",
        "        for i, (features, labels) in enumerate(train_loader):\n",
        "            features = features.to(device)\n",
        "            labels = labels.to(device)\n",
        "\n",
        "            y_pred = model(features)\n",
        "            loss = criterion(y_pred.float(), labels)\n",
        "            epoch_loss += loss.item()\n",
        "\n",
        "            optimizer.zero_grad()\n",
        "            loss.backward()\n",
        "            optimizer.step()\n",
        "\n",
        "        avg_epoch_loss = epoch_loss / len(train_loader)\n",
        "        train_hist[epoch] = avg_epoch_loss\n",
        "\n",
        "        # Validation Loop\n",
        "        model.eval()\n",
        "        with torch.no_grad():\n",
        "            validation_loss = 0\n",
        "            for features_val, labels_val in validation_loader:\n",
        "                features_val = features_val.to(device)\n",
        "                labels_val = labels_val.to(device)\n",
        "\n",
        "                y_pred_val = model(features_val)\n",
        "                loss_val = criterion(y_pred_val, labels_val)\n",
        "                validation_loss += loss_val.item()\n",
        "\n",
        "            avg_validation_loss = validation_loss / len(validation_loader)\n",
        "            validation_hist[epoch] = avg_validation_loss\n",
        "\n",
        "        print(f\"Epoch [{epoch + 1}/{num_epochs}], Train Loss: {avg_epoch_loss}, Validation Loss: {avg_validation_loss}\")\n",
        "\n",
        "    # Plotting\n",
        "    plot_loss(train_hist, validation_hist)\n",
        "\n",
        "    return train_hist, validation_hist\n",
        "\n",
        "\n",
        "\n",
        "\n"
      ],
      "metadata": {
        "id": "jCkOauE5Wr7Y"
      },
      "execution_count": 17,
      "outputs": []
    },
    {
      "cell_type": "code",
      "source": [
        "# Example usage\n",
        "train_hist, validation_hist = train_model(num_epochs=30, model=model, train_loader=train_loader,\n",
        "                                          validation_loader=validation_loader, criterion=criterion, optimizer=optimizer)"
      ],
      "metadata": {
        "colab": {
          "base_uri": "https://localhost:8080/",
          "height": 1000
        },
        "id": "RRc1duDpj47L",
        "outputId": "fd24bfb7-6e54-4437-b032-59ffe4b2bbc3"
      },
      "execution_count": 18,
      "outputs": [
        {
          "output_type": "stream",
          "name": "stdout",
          "text": [
            "Epoch [1/30], Train Loss: 2.830578565597534, Validation Loss: 1.6537028551101685\n",
            "Epoch [2/30], Train Loss: 2.8154616355895996, Validation Loss: 1.644456148147583\n",
            "Epoch [3/30], Train Loss: 2.787858486175537, Validation Loss: 1.6340582370758057\n",
            "Epoch [4/30], Train Loss: 2.7664995193481445, Validation Loss: 1.625709056854248\n",
            "Epoch [5/30], Train Loss: 2.738233804702759, Validation Loss: 1.6162617206573486\n",
            "Epoch [6/30], Train Loss: 2.6929426193237305, Validation Loss: 1.607490062713623\n",
            "Epoch [7/30], Train Loss: 2.6982948780059814, Validation Loss: 1.598476529121399\n",
            "Epoch [8/30], Train Loss: 2.668997049331665, Validation Loss: 1.5902591943740845\n",
            "Epoch [9/30], Train Loss: 2.6519763469696045, Validation Loss: 1.58058500289917\n",
            "Epoch [10/30], Train Loss: 2.620515823364258, Validation Loss: 1.5719828605651855\n",
            "Epoch [11/30], Train Loss: 2.6017277240753174, Validation Loss: 1.5618277788162231\n",
            "Epoch [12/30], Train Loss: 2.5752460956573486, Validation Loss: 1.553283452987671\n",
            "Epoch [13/30], Train Loss: 2.56565260887146, Validation Loss: 1.5439527034759521\n",
            "Epoch [14/30], Train Loss: 2.5404891967773438, Validation Loss: 1.5347464084625244\n",
            "Epoch [15/30], Train Loss: 2.5163445472717285, Validation Loss: 1.5250365734100342\n",
            "Epoch [16/30], Train Loss: 2.5050108432769775, Validation Loss: 1.517331838607788\n",
            "Epoch [17/30], Train Loss: 2.463233470916748, Validation Loss: 1.5077000856399536\n",
            "Epoch [18/30], Train Loss: 2.4389612674713135, Validation Loss: 1.4982892274856567\n",
            "Epoch [19/30], Train Loss: 2.426990032196045, Validation Loss: 1.4906474351882935\n",
            "Epoch [20/30], Train Loss: 2.397256374359131, Validation Loss: 1.4793200492858887\n",
            "Epoch [21/30], Train Loss: 2.3821115493774414, Validation Loss: 1.4703007936477661\n",
            "Epoch [22/30], Train Loss: 2.3692500591278076, Validation Loss: 1.4628939628601074\n",
            "Epoch [23/30], Train Loss: 2.3370227813720703, Validation Loss: 1.4520533084869385\n",
            "Epoch [24/30], Train Loss: 2.32836651802063, Validation Loss: 1.444460391998291\n",
            "Epoch [25/30], Train Loss: 2.2969400882720947, Validation Loss: 1.4340596199035645\n",
            "Epoch [26/30], Train Loss: 2.289180040359497, Validation Loss: 1.4270516633987427\n",
            "Epoch [27/30], Train Loss: 2.2489898204803467, Validation Loss: 1.4163994789123535\n",
            "Epoch [28/30], Train Loss: 2.224147319793701, Validation Loss: 1.4058500528335571\n",
            "Epoch [29/30], Train Loss: 2.208866596221924, Validation Loss: 1.397390604019165\n",
            "Epoch [30/30], Train Loss: 2.193477153778076, Validation Loss: 1.388088345527649\n"
          ]
        },
        {
          "output_type": "display_data",
          "data": {
            "text/plain": [
              "<Figure size 1000x600 with 1 Axes>"
            ],
            "image/png": "[encoded data removed]"
          },
          "metadata": {}
        }
      ]
    },
    {
      "cell_type": "code",
      "source": [
        "import matplotlib.pyplot as plt\n",
        "\n",
        "def test_model(model, test_loader, criterion):\n",
        "    model.eval()\n",
        "    test_loss = 0\n",
        "    predicted_values = []\n",
        "    true_labels = []\n",
        "\n",
        "    with torch.no_grad():\n",
        "        for features_test, labels_test in test_loader:\n",
        "            features_test = features_test.to(device)\n",
        "            labels_test = labels_test.to(device)\n",
        "\n",
        "            y_pred_test = model(features_test)\n",
        "            loss_test = criterion(y_pred_test, labels_test)\n",
        "            test_loss += loss_test.item()\n",
        "\n",
        "            predicted_values.extend(y_pred_test.cpu().numpy())\n",
        "            true_labels.extend(labels_test.cpu().numpy())\n",
        "\n",
        "    avg_test_loss = test_loss / len(test_loader)\n",
        "    print(f\"Test Loss: {avg_test_loss}\")\n",
        "\n",
        "    return np.array(predicted_values), np.array(true_labels)\n",
        "\n",
        "# Assuming you have the `test_loader` DataLoader\n",
        "predicted_values, true_labels = test_model(model, test_loader, criterion)\n"
      ],
      "metadata": {
        "colab": {
          "base_uri": "https://localhost:8080/"
        },
        "id": "wdI3900tUwV_",
        "outputId": "e451bc2c-b038-48b4-b84e-eec395b7e5e7"
      },
      "execution_count": 19,
      "outputs": [
        {
          "output_type": "stream",
          "name": "stdout",
          "text": [
            "Test Loss: 0.7268603444099426\n"
          ]
        }
      ]
    },
    {
      "cell_type": "markdown",
      "source": [
        "Forecasting the future values for next 30 months"
      ],
      "metadata": {
        "id": "FczMIycykY61"
      }
    },
    {
      "cell_type": "code",
      "source": [
        "\n",
        "\n",
        "# trained model = 'model' and DataLoader = 'test_loader'\n",
        "model.eval()\n",
        "\n",
        "# Get the last sequence from the test loader\n",
        "for features_test, labels_test in test_loader:\n",
        "    last_sequence = features_test[-1, :, :].unsqueeze(0).to(device)\n",
        "    break  #We need only 1 model for testing\n",
        "\n",
        "# Forecast sales for the next 30 months\n",
        "future_steps = 30\n",
        "forecast = []\n",
        "with torch.no_grad():\n",
        "    for _ in range(future_steps):\n",
        "        output = model(last_sequence)\n",
        "        forecast.append(output.squeeze().item())\n",
        "        # Update the last sequence with the predicted value (shift by 1)\n",
        "        last_sequence = torch.cat((last_sequence[:, 1:], output.unsqueeze(0)), dim=1)\n",
        "\n",
        "# Fit the scaler with the training data\n",
        "scaler = MinMaxScaler()\n",
        "scaler.fit(np.expand_dims(df[\"Sales\"], axis=1))\n",
        "\n",
        "# Inverse scaling to get actual sales values\n",
        "forecast = scaler.inverse_transform(np.array(forecast).reshape(-1, 1))\n",
        "\n",
        "# Create future dates for plotting\n",
        "last_date = df.index[-1]  # Assuming df is the original DataFrame\n",
        "\n",
        "\n",
        "# Print or use 'forecast' and 'future_dates' for plotting\n",
        "print(\"Forecasted Sales:\", forecast)\n",
        "\n"
      ],
      "metadata": {
        "colab": {
          "base_uri": "https://localhost:8080/"
        },
        "id": "0wIIRT3pPEmv",
        "outputId": "5830f17d-de52-4781-c93b-0dd1b0a376ff"
      },
      "execution_count": 20,
      "outputs": [
        {
          "output_type": "stream",
          "name": "stdout",
          "text": [
            "Forecasted Sales: [[184.16765066]\n",
            " [184.03471252]\n",
            " [183.90194628]\n",
            " [183.80227936]\n",
            " [183.73485652]\n",
            " [183.69144798]\n",
            " [183.66413003]\n",
            " [183.64710033]\n",
            " [183.63651022]\n",
            " [183.62992389]\n",
            " [183.62585303]\n",
            " [183.62335853]\n",
            " [183.62185344]\n",
            " [183.62096884]\n",
            " [183.62046155]\n",
            " [183.62019324]\n",
            " [183.62005069]\n",
            " [183.61999619]\n",
            " [183.61997942]\n",
            " [183.61997942]\n",
            " [183.619992  ]\n",
            " [183.62000458]\n",
            " [183.62001296]\n",
            " [183.62003392]\n",
            " [183.62003392]\n",
            " [183.62004231]\n",
            " [183.6200465 ]\n",
            " [183.62005069]\n",
            " [183.62005489]\n",
            " [183.62005069]]\n"
          ]
        }
      ]
    },
    {
      "cell_type": "code",
      "source": [
        "fore = np.array(forecast).reshape(-1, 1)\n",
        "fore"
      ],
      "metadata": {
        "colab": {
          "base_uri": "https://localhost:8080/"
        },
        "id": "vajQblVzQZwg",
        "outputId": "b6edce00-f797-4dac-9bc1-55900d4f1d9e"
      },
      "execution_count": 21,
      "outputs": [
        {
          "output_type": "execute_result",
          "data": {
            "text/plain": [
              "array([[184.16765066],\n",
              "       [184.03471252],\n",
              "       [183.90194628],\n",
              "       [183.80227936],\n",
              "       [183.73485652],\n",
              "       [183.69144798],\n",
              "       [183.66413003],\n",
              "       [183.64710033],\n",
              "       [183.63651022],\n",
              "       [183.62992389],\n",
              "       [183.62585303],\n",
              "       [183.62335853],\n",
              "       [183.62185344],\n",
              "       [183.62096884],\n",
              "       [183.62046155],\n",
              "       [183.62019324],\n",
              "       [183.62005069],\n",
              "       [183.61999619],\n",
              "       [183.61997942],\n",
              "       [183.61997942],\n",
              "       [183.619992  ],\n",
              "       [183.62000458],\n",
              "       [183.62001296],\n",
              "       [183.62003392],\n",
              "       [183.62003392],\n",
              "       [183.62004231],\n",
              "       [183.6200465 ],\n",
              "       [183.62005069],\n",
              "       [183.62005489],\n",
              "       [183.62005069]])"
            ]
          },
          "metadata": {},
          "execution_count": 21
        }
      ]
    },
    {
      "cell_type": "code",
      "source": [
        "b = np.array(df[\"Sales\"]).reshape(-1,1)\n",
        "b"
      ],
      "metadata": {
        "colab": {
          "base_uri": "https://localhost:8080/"
        },
        "id": "6qPwWTv8QWiD",
        "outputId": "de5e733a-ed32-469e-d4f3-0b6f2d262976"
      },
      "execution_count": 22,
      "outputs": [
        {
          "output_type": "execute_result",
          "data": {
            "text/plain": [
              "array([[266. ],\n",
              "       [145.9],\n",
              "       [183.1],\n",
              "       [119.3],\n",
              "       [180.3],\n",
              "       [168.5],\n",
              "       [231.8],\n",
              "       [224.5],\n",
              "       [192.8],\n",
              "       [122.9],\n",
              "       [336.5],\n",
              "       [185.9],\n",
              "       [194.3],\n",
              "       [149.5],\n",
              "       [210.1],\n",
              "       [273.3],\n",
              "       [191.4],\n",
              "       [287. ],\n",
              "       [226. ],\n",
              "       [303.6],\n",
              "       [289.9],\n",
              "       [421.6],\n",
              "       [264.5],\n",
              "       [342.3],\n",
              "       [339.7],\n",
              "       [440.4],\n",
              "       [315.9],\n",
              "       [439.3],\n",
              "       [401.3],\n",
              "       [437.4],\n",
              "       [575.5],\n",
              "       [407.6],\n",
              "       [682. ],\n",
              "       [475.3],\n",
              "       [581.3],\n",
              "       [646.9]])"
            ]
          },
          "metadata": {},
          "execution_count": 22
        }
      ]
    },
    {
      "cell_type": "markdown",
      "source": [
        "Plot the forecast"
      ],
      "metadata": {
        "id": "WuFV-Cd2lKgT"
      }
    },
    {
      "cell_type": "code",
      "source": [
        "concatenated_sales = np.concatenate((b, fore))\n",
        "\n",
        "# Plot actual and forecasted sales\n",
        "plt.figure(figsize=(10, 6))\n",
        "plt.plot(concatenated_sales, label='Sales')\n",
        "plt.axvline(x=len(df), color='red', linestyle='--', linewidth=1, label='End of Actual Sales')\n",
        "plt.title('Shampoo Sales Forecast')\n",
        "plt.xlabel('Month')\n",
        "plt.ylabel('Sales')\n",
        "plt.legend()\n",
        "plt.grid(True)\n",
        "plt.show()"
      ],
      "metadata": {
        "colab": {
          "base_uri": "https://localhost:8080/",
          "height": 585
        },
        "id": "VIBb5uWtQ07h",
        "outputId": "8e7fd173-5d41-46ed-b7c3-6b8bbea9af84"
      },
      "execution_count": 23,
      "outputs": [
        {
          "output_type": "display_data",
          "data": {
            "text/plain": [
              "<Figure size 1000x600 with 1 Axes>"
            ],
            "image/png": "[encoded data removed]"
          },
          "metadata": {}
        }
      ]
    },
    {
      "cell_type": "markdown",
      "source": [
        "In the above graph the sales after the dotted lines are the predicted sales i.e the LSTM has obtained the forecasted values based on the past data."
      ],
      "metadata": {
        "id": "Ddl8qV74mHge"
      }
    },
    {
      "cell_type": "markdown",
      "source": [
        "##Hyper parameter tuning\n",
        "\n",
        "Batchsize\n",
        "Dropout rate\n",
        "Epochs\n",
        "Number of hidden layers\n",
        "Learning rate\n",
        "Loss function\n",
        "Activation functions\n",
        "\n",
        "\n",
        "Here i will tune the model using diff learning rates, dropout rate\n",
        "epochs and Number of hidden layers.\n",
        "\n"
      ],
      "metadata": {
        "id": "fTpGpG5XlVN_"
      }
    },
    {
      "cell_type": "code",
      "source": [
        "#Define model1\n",
        "model1 = SalesPredictor(n_features=1,\n",
        "  n_hidden=256,\n",
        "  sequence_length=5,\n",
        "  n_layers=2).to(device)\n",
        "\n",
        "#Loss fuction\n",
        "criterion = torch.nn.MSELoss(reduction='sum')\n",
        "\n",
        "#Optimizer with lr 1e-3\n",
        "optimizer = torch.optim.Adam(model.parameters(), lr=1e-3)"
      ],
      "metadata": {
        "id": "fBYul2zQncAV"
      },
      "execution_count": 24,
      "outputs": []
    },
    {
      "cell_type": "code",
      "source": [
        "train_hist, validation_hist = train_model(num_epochs= 100, model=model1, train_loader=train_loader,\n",
        "                                          validation_loader=validation_loader, criterion=criterion, optimizer=optimizer)"
      ],
      "metadata": {
        "colab": {
          "base_uri": "https://localhost:8080/",
          "height": 1000
        },
        "id": "g0pXT3hjlQWl",
        "outputId": "f8f8fb1b-1c39-4878-be82-04482225ea89"
      },
      "execution_count": 25,
      "outputs": [
        {
          "output_type": "stream",
          "name": "stdout",
          "text": [
            "Epoch [1/100], Train Loss: 3.183443069458008, Validation Loss: 1.7939382791519165\n",
            "Epoch [2/100], Train Loss: 3.1868104934692383, Validation Loss: 1.7934104204177856\n",
            "Epoch [3/100], Train Loss: 3.1894328594207764, Validation Loss: 1.7948280572891235\n",
            "Epoch [4/100], Train Loss: 3.182101249694824, Validation Loss: 1.7943187952041626\n",
            "Epoch [5/100], Train Loss: 3.1948623657226562, Validation Loss: 1.7942516803741455\n",
            "Epoch [6/100], Train Loss: 3.191213846206665, Validation Loss: 1.7942757606506348\n",
            "Epoch [7/100], Train Loss: 3.1833579540252686, Validation Loss: 1.7941648960113525\n",
            "Epoch [8/100], Train Loss: 3.1834678649902344, Validation Loss: 1.794126033782959\n",
            "Epoch [9/100], Train Loss: 3.187835693359375, Validation Loss: 1.7950239181518555\n",
            "Epoch [10/100], Train Loss: 3.1829071044921875, Validation Loss: 1.7947500944137573\n",
            "Epoch [11/100], Train Loss: 3.1801581382751465, Validation Loss: 1.7944762706756592\n",
            "Epoch [12/100], Train Loss: 3.191526174545288, Validation Loss: 1.794425129890442\n",
            "Epoch [13/100], Train Loss: 3.193788528442383, Validation Loss: 1.7938857078552246\n",
            "Epoch [14/100], Train Loss: 3.1867730617523193, Validation Loss: 1.79436457157135\n",
            "Epoch [15/100], Train Loss: 3.1830434799194336, Validation Loss: 1.795066475868225\n",
            "Epoch [16/100], Train Loss: 3.180389642715454, Validation Loss: 1.794842004776001\n",
            "Epoch [17/100], Train Loss: 3.1853716373443604, Validation Loss: 1.7942458391189575\n",
            "Epoch [18/100], Train Loss: 3.181560754776001, Validation Loss: 1.7930150032043457\n",
            "Epoch [19/100], Train Loss: 3.1868700981140137, Validation Loss: 1.7944085597991943\n",
            "Epoch [20/100], Train Loss: 3.1981453895568848, Validation Loss: 1.7943530082702637\n",
            "Epoch [21/100], Train Loss: 3.1979098320007324, Validation Loss: 1.7939324378967285\n",
            "Epoch [22/100], Train Loss: 3.1837432384490967, Validation Loss: 1.7939727306365967\n",
            "Epoch [23/100], Train Loss: 3.194730520248413, Validation Loss: 1.794607400894165\n",
            "Epoch [24/100], Train Loss: 3.185326099395752, Validation Loss: 1.794394612312317\n",
            "Epoch [25/100], Train Loss: 3.190898895263672, Validation Loss: 1.7943158149719238\n",
            "Epoch [26/100], Train Loss: 3.178131580352783, Validation Loss: 1.7939822673797607\n",
            "Epoch [27/100], Train Loss: 3.1940033435821533, Validation Loss: 1.7944351434707642\n",
            "Epoch [28/100], Train Loss: 3.1885061264038086, Validation Loss: 1.7944105863571167\n",
            "Epoch [29/100], Train Loss: 3.1776342391967773, Validation Loss: 1.7940020561218262\n",
            "Epoch [30/100], Train Loss: 3.18609881401062, Validation Loss: 1.7943339347839355\n",
            "Epoch [31/100], Train Loss: 3.1885907649993896, Validation Loss: 1.794653058052063\n",
            "Epoch [32/100], Train Loss: 3.1911275386810303, Validation Loss: 1.7946193218231201\n",
            "Epoch [33/100], Train Loss: 3.1891775131225586, Validation Loss: 1.7941267490386963\n",
            "Epoch [34/100], Train Loss: 3.183518409729004, Validation Loss: 1.7951092720031738\n",
            "Epoch [35/100], Train Loss: 3.1972360610961914, Validation Loss: 1.794737696647644\n",
            "Epoch [36/100], Train Loss: 3.197730302810669, Validation Loss: 1.7946903705596924\n",
            "Epoch [37/100], Train Loss: 3.1858081817626953, Validation Loss: 1.7949601411819458\n",
            "Epoch [38/100], Train Loss: 3.1849429607391357, Validation Loss: 1.7941467761993408\n",
            "Epoch [39/100], Train Loss: 3.193748712539673, Validation Loss: 1.7942144870758057\n",
            "Epoch [40/100], Train Loss: 3.182305097579956, Validation Loss: 1.7943145036697388\n",
            "Epoch [41/100], Train Loss: 3.200622081756592, Validation Loss: 1.7950326204299927\n",
            "Epoch [42/100], Train Loss: 3.174797534942627, Validation Loss: 1.794105887413025\n",
            "Epoch [43/100], Train Loss: 3.1903154850006104, Validation Loss: 1.794456958770752\n",
            "Epoch [44/100], Train Loss: 3.1908462047576904, Validation Loss: 1.7943974733352661\n",
            "Epoch [45/100], Train Loss: 3.174736499786377, Validation Loss: 1.7943376302719116\n",
            "Epoch [46/100], Train Loss: 3.18052339553833, Validation Loss: 1.794924259185791\n",
            "Epoch [47/100], Train Loss: 3.1914656162261963, Validation Loss: 1.7943392992019653\n",
            "Epoch [48/100], Train Loss: 3.194065570831299, Validation Loss: 1.7948088645935059\n",
            "Epoch [49/100], Train Loss: 3.186819553375244, Validation Loss: 1.7944425344467163\n",
            "Epoch [50/100], Train Loss: 3.19206166267395, Validation Loss: 1.7946105003356934\n",
            "Epoch [51/100], Train Loss: 3.186215400695801, Validation Loss: 1.79474675655365\n",
            "Epoch [52/100], Train Loss: 3.192905902862549, Validation Loss: 1.79445219039917\n",
            "Epoch [53/100], Train Loss: 3.1951968669891357, Validation Loss: 1.7952277660369873\n",
            "Epoch [54/100], Train Loss: 3.187605619430542, Validation Loss: 1.7943028211593628\n",
            "Epoch [55/100], Train Loss: 3.185926914215088, Validation Loss: 1.7953230142593384\n",
            "Epoch [56/100], Train Loss: 3.189828872680664, Validation Loss: 1.7942694425582886\n",
            "Epoch [57/100], Train Loss: 3.190298080444336, Validation Loss: 1.7945849895477295\n",
            "Epoch [58/100], Train Loss: 3.195254325866699, Validation Loss: 1.7946306467056274\n",
            "Epoch [59/100], Train Loss: 3.184457778930664, Validation Loss: 1.7936161756515503\n",
            "Epoch [60/100], Train Loss: 3.186037302017212, Validation Loss: 1.7945805788040161\n",
            "Epoch [61/100], Train Loss: 3.186800241470337, Validation Loss: 1.794387936592102\n",
            "Epoch [62/100], Train Loss: 3.182591199874878, Validation Loss: 1.794212818145752\n",
            "Epoch [63/100], Train Loss: 3.183744192123413, Validation Loss: 1.7946135997772217\n",
            "Epoch [64/100], Train Loss: 3.188298225402832, Validation Loss: 1.7943239212036133\n",
            "Epoch [65/100], Train Loss: 3.194026231765747, Validation Loss: 1.7949156761169434\n",
            "Epoch [66/100], Train Loss: 3.192990779876709, Validation Loss: 1.7946627140045166\n",
            "Epoch [67/100], Train Loss: 3.182732343673706, Validation Loss: 1.7945866584777832\n",
            "Epoch [68/100], Train Loss: 3.177626848220825, Validation Loss: 1.794445514678955\n",
            "Epoch [69/100], Train Loss: 3.187399387359619, Validation Loss: 1.7938809394836426\n",
            "Epoch [70/100], Train Loss: 3.1728920936584473, Validation Loss: 1.794112205505371\n",
            "Epoch [71/100], Train Loss: 3.190279960632324, Validation Loss: 1.7944402694702148\n",
            "Epoch [72/100], Train Loss: 3.191375732421875, Validation Loss: 1.7944111824035645\n",
            "Epoch [73/100], Train Loss: 3.1811251640319824, Validation Loss: 1.7941198348999023\n",
            "Epoch [74/100], Train Loss: 3.1948492527008057, Validation Loss: 1.7945433855056763\n",
            "Epoch [75/100], Train Loss: 3.1877098083496094, Validation Loss: 1.7948216199874878\n",
            "Epoch [76/100], Train Loss: 3.194681406021118, Validation Loss: 1.794676423072815\n",
            "Epoch [77/100], Train Loss: 3.2002973556518555, Validation Loss: 1.794497013092041\n",
            "Epoch [78/100], Train Loss: 3.183028221130371, Validation Loss: 1.7948781251907349\n",
            "Epoch [79/100], Train Loss: 3.1926653385162354, Validation Loss: 1.794193983078003\n",
            "Epoch [80/100], Train Loss: 3.1783244609832764, Validation Loss: 1.7942160367965698\n",
            "Epoch [81/100], Train Loss: 3.1957476139068604, Validation Loss: 1.7943580150604248\n",
            "Epoch [82/100], Train Loss: 3.1804440021514893, Validation Loss: 1.7948795557022095\n",
            "Epoch [83/100], Train Loss: 3.186187267303467, Validation Loss: 1.7944334745407104\n",
            "Epoch [84/100], Train Loss: 3.1851298809051514, Validation Loss: 1.7939472198486328\n",
            "Epoch [85/100], Train Loss: 3.1988115310668945, Validation Loss: 1.7950869798660278\n",
            "Epoch [86/100], Train Loss: 3.188478469848633, Validation Loss: 1.794111967086792\n",
            "Epoch [87/100], Train Loss: 3.1886355876922607, Validation Loss: 1.7946933507919312\n",
            "Epoch [88/100], Train Loss: 3.175690174102783, Validation Loss: 1.7943964004516602\n",
            "Epoch [89/100], Train Loss: 3.1930344104766846, Validation Loss: 1.7941921949386597\n",
            "Epoch [90/100], Train Loss: 3.181100368499756, Validation Loss: 1.7942934036254883\n",
            "Epoch [91/100], Train Loss: 3.1803035736083984, Validation Loss: 1.794616460800171\n",
            "Epoch [92/100], Train Loss: 3.1898248195648193, Validation Loss: 1.7944077253341675\n",
            "Epoch [93/100], Train Loss: 3.1812527179718018, Validation Loss: 1.7944133281707764\n",
            "Epoch [94/100], Train Loss: 3.1867825984954834, Validation Loss: 1.7941960096359253\n",
            "Epoch [95/100], Train Loss: 3.1855175495147705, Validation Loss: 1.7942938804626465\n",
            "Epoch [96/100], Train Loss: 3.178063154220581, Validation Loss: 1.7943874597549438\n",
            "Epoch [97/100], Train Loss: 3.1919422149658203, Validation Loss: 1.7947522401809692\n",
            "Epoch [98/100], Train Loss: 3.185486316680908, Validation Loss: 1.7935516834259033\n",
            "Epoch [99/100], Train Loss: 3.1832761764526367, Validation Loss: 1.795355200767517\n",
            "Epoch [100/100], Train Loss: 3.184370517730713, Validation Loss: 1.7943980693817139\n"
          ]
        },
        {
          "output_type": "display_data",
          "data": {
            "text/plain": [
              "<Figure size 1000x600 with 1 Axes>"
            ],
            "image/png": "[encoded data removed]"
          },
          "metadata": {}
        }
      ]
    },
    {
      "cell_type": "code",
      "source": [
        "predicted_values1, true_labels1 = test_model(model1, test_loader, criterion)"
      ],
      "metadata": {
        "colab": {
          "base_uri": "https://localhost:8080/"
        },
        "id": "kqtyyVhS9IL9",
        "outputId": "43978e97-e41a-4b42-dcfd-784100e2e079"
      },
      "execution_count": 26,
      "outputs": [
        {
          "output_type": "stream",
          "name": "stdout",
          "text": [
            "Test Loss: 1.041196584701538\n"
          ]
        }
      ]
    },
    {
      "cell_type": "code",
      "source": [
        "#Define model2\n",
        "model2 = SalesPredictor(n_features=1,\n",
        "  n_hidden=64,\n",
        "  sequence_length=5,\n",
        "  n_layers=2).to(device)\n",
        "\n",
        "#Loss fuction\n",
        "criterion = torch.nn.MSELoss(reduction='sum')\n",
        "\n",
        "#Optimizer with lr 1e-3\n",
        "optimizer = torch.optim.Adam(model.parameters(), lr=1e-5)"
      ],
      "metadata": {
        "id": "Xt_-h_vbnrMy"
      },
      "execution_count": 27,
      "outputs": []
    },
    {
      "cell_type": "code",
      "source": [
        "train_hist, validation_hist = train_model(num_epochs= 50, model=model2, train_loader=train_loader,\n",
        "                                          validation_loader=validation_loader, criterion=criterion, optimizer=optimizer)"
      ],
      "metadata": {
        "colab": {
          "base_uri": "https://localhost:8080/",
          "height": 1000
        },
        "id": "YOeSouH7nug9",
        "outputId": "b908d7bf-506a-4f93-9524-2f765b7537bf"
      },
      "execution_count": 28,
      "outputs": [
        {
          "output_type": "stream",
          "name": "stdout",
          "text": [
            "Epoch [1/50], Train Loss: 3.8456718921661377, Validation Loss: 2.033539056777954\n",
            "Epoch [2/50], Train Loss: 3.8547651767730713, Validation Loss: 2.0355663299560547\n",
            "Epoch [3/50], Train Loss: 3.8515543937683105, Validation Loss: 2.0338962078094482\n",
            "Epoch [4/50], Train Loss: 3.8580358028411865, Validation Loss: 2.038076639175415\n",
            "Epoch [5/50], Train Loss: 3.8624229431152344, Validation Loss: 2.0370707511901855\n",
            "Epoch [6/50], Train Loss: 3.9004099369049072, Validation Loss: 2.0379366874694824\n",
            "Epoch [7/50], Train Loss: 3.864652156829834, Validation Loss: 2.033484697341919\n",
            "Epoch [8/50], Train Loss: 3.905548334121704, Validation Loss: 2.037990093231201\n",
            "Epoch [9/50], Train Loss: 3.863375186920166, Validation Loss: 2.0359585285186768\n",
            "Epoch [10/50], Train Loss: 3.846198797225952, Validation Loss: 2.037416934967041\n",
            "Epoch [11/50], Train Loss: 3.8557076454162598, Validation Loss: 2.0356881618499756\n",
            "Epoch [12/50], Train Loss: 3.8538856506347656, Validation Loss: 2.036604881286621\n",
            "Epoch [13/50], Train Loss: 3.873352527618408, Validation Loss: 2.0361311435699463\n",
            "Epoch [14/50], Train Loss: 3.8772635459899902, Validation Loss: 2.037137985229492\n",
            "Epoch [15/50], Train Loss: 3.874242067337036, Validation Loss: 2.0360772609710693\n",
            "Epoch [16/50], Train Loss: 3.890000820159912, Validation Loss: 2.036986827850342\n",
            "Epoch [17/50], Train Loss: 3.8568220138549805, Validation Loss: 2.0367870330810547\n",
            "Epoch [18/50], Train Loss: 3.866055965423584, Validation Loss: 2.0366127490997314\n",
            "Epoch [19/50], Train Loss: 3.873237133026123, Validation Loss: 2.0359225273132324\n",
            "Epoch [20/50], Train Loss: 3.850816249847412, Validation Loss: 2.0364108085632324\n",
            "Epoch [21/50], Train Loss: 3.8590774536132812, Validation Loss: 2.0360281467437744\n",
            "Epoch [22/50], Train Loss: 3.8787660598754883, Validation Loss: 2.03633975982666\n",
            "Epoch [23/50], Train Loss: 3.8381612300872803, Validation Loss: 2.0361242294311523\n",
            "Epoch [24/50], Train Loss: 3.884848117828369, Validation Loss: 2.035938262939453\n",
            "Epoch [25/50], Train Loss: 3.8492214679718018, Validation Loss: 2.0353424549102783\n",
            "Epoch [26/50], Train Loss: 3.843921184539795, Validation Loss: 2.035383939743042\n",
            "Epoch [27/50], Train Loss: 3.879776954650879, Validation Loss: 2.0367839336395264\n",
            "Epoch [28/50], Train Loss: 3.8661205768585205, Validation Loss: 2.037153720855713\n",
            "Epoch [29/50], Train Loss: 3.887679100036621, Validation Loss: 2.035547971725464\n",
            "Epoch [30/50], Train Loss: 3.849933385848999, Validation Loss: 2.036796808242798\n",
            "Epoch [31/50], Train Loss: 3.8703768253326416, Validation Loss: 2.036358118057251\n",
            "Epoch [32/50], Train Loss: 3.918569803237915, Validation Loss: 2.0371100902557373\n",
            "Epoch [33/50], Train Loss: 3.8583436012268066, Validation Loss: 2.0367352962493896\n",
            "Epoch [34/50], Train Loss: 3.8612117767333984, Validation Loss: 2.0353174209594727\n",
            "Epoch [35/50], Train Loss: 3.863953113555908, Validation Loss: 2.036717176437378\n",
            "Epoch [36/50], Train Loss: 3.877586603164673, Validation Loss: 2.0357110500335693\n",
            "Epoch [37/50], Train Loss: 3.8596231937408447, Validation Loss: 2.0376291275024414\n",
            "Epoch [38/50], Train Loss: 3.863353967666626, Validation Loss: 2.0362708568573\n",
            "Epoch [39/50], Train Loss: 3.8845627307891846, Validation Loss: 2.036770820617676\n",
            "Epoch [40/50], Train Loss: 3.853559970855713, Validation Loss: 2.036546230316162\n",
            "Epoch [41/50], Train Loss: 3.8729007244110107, Validation Loss: 2.035343885421753\n",
            "Epoch [42/50], Train Loss: 3.846156120300293, Validation Loss: 2.0366170406341553\n",
            "Epoch [43/50], Train Loss: 3.861855983734131, Validation Loss: 2.0364131927490234\n",
            "Epoch [44/50], Train Loss: 3.877363920211792, Validation Loss: 2.0362064838409424\n",
            "Epoch [45/50], Train Loss: 3.8585622310638428, Validation Loss: 2.0374770164489746\n",
            "Epoch [46/50], Train Loss: 3.840240478515625, Validation Loss: 2.035944938659668\n",
            "Epoch [47/50], Train Loss: 3.83481502532959, Validation Loss: 2.035526990890503\n",
            "Epoch [48/50], Train Loss: 3.849782705307007, Validation Loss: 2.0344250202178955\n",
            "Epoch [49/50], Train Loss: 3.877645254135132, Validation Loss: 2.0367162227630615\n",
            "Epoch [50/50], Train Loss: 3.8712406158447266, Validation Loss: 2.0372626781463623\n"
          ]
        },
        {
          "output_type": "display_data",
          "data": {
            "text/plain": [
              "<Figure size 1000x600 with 1 Axes>"
            ],
            "image/png": "[encoded data removed]"
          },
          "metadata": {}
        }
      ]
    },
    {
      "cell_type": "code",
      "source": [
        "predicted_values2, true_labels2 = test_model(model2, test_loader, criterion)"
      ],
      "metadata": {
        "colab": {
          "base_uri": "https://localhost:8080/"
        },
        "id": "2Rc8LzK49VI6",
        "outputId": "07d05a60-a4d2-49c8-a342-e528bafc0b44"
      },
      "execution_count": 29,
      "outputs": [
        {
          "output_type": "stream",
          "name": "stdout",
          "text": [
            "Test Loss: 1.245723843574524\n"
          ]
        }
      ]
    },
    {
      "cell_type": "code",
      "source": [
        "import pandas as pd\n",
        "\n",
        "# Define data\n",
        "data = {'model' : ['model'],\n",
        "    'lr': [1e-4],\n",
        "    'batch_size': [64],\n",
        "    'n_hidden': [64],\n",
        "    'epochs': [30],\n",
        "    'train_loss': [0.47358688712120056]\n",
        "}\n",
        "\n",
        "# Create DataFrame\n",
        "df = pd.DataFrame(data)\n",
        "\n",
        "# Display the DataFrame\n",
        "print(df)\n"
      ],
      "metadata": {
        "colab": {
          "base_uri": "https://localhost:8080/"
        },
        "id": "03B5YAyg8bQr",
        "outputId": "1971fe02-5772-4b05-9fbc-3c7aef163e9d"
      },
      "execution_count": 35,
      "outputs": [
        {
          "output_type": "stream",
          "name": "stdout",
          "text": [
            "   model      lr  batch_size  n_hidden  epochs  train_loss\n",
            "0  model  0.0001          64        64      30    0.473587\n"
          ]
        }
      ]
    },
    {
      "cell_type": "code",
      "source": [
        "model_1 = {'model' : ['model1'],\n",
        "    'lr': [1e-3],\n",
        "    'batch_size': [64],\n",
        "    'n_hidden': [256],\n",
        "    'epochs': [100],\n",
        "    'train_loss': [1.041196584701538]\n",
        "}\n",
        "\n",
        "model_2 = {'model' : ['model2'],\n",
        "    'lr': [1e-5],\n",
        "    'batch_size': [64],\n",
        "    'n_hidden': [64],\n",
        "    'epochs': [50],\n",
        "    'train_loss': [1.245723843574524]\n",
        "}\n",
        "\n",
        "df = df.append(pd.DataFrame(model_1), ignore_index=True)\n",
        "df = df.append(pd.DataFrame(model_2), ignore_index=True)\n"
      ],
      "metadata": {
        "colab": {
          "base_uri": "https://localhost:8080/"
        },
        "id": "R0s0BhED-VzD",
        "outputId": "a896bda2-79de-4289-e481-de76da0edb16"
      },
      "execution_count": 36,
      "outputs": [
        {
          "output_type": "stream",
          "name": "stderr",
          "text": [
            "<ipython-input-36-bf3cfc64479f>:17: FutureWarning: The frame.append method is deprecated and will be removed from pandas in a future version. Use pandas.concat instead.\n",
            "  df = df.append(pd.DataFrame(model_1), ignore_index=True)\n",
            "<ipython-input-36-bf3cfc64479f>:18: FutureWarning: The frame.append method is deprecated and will be removed from pandas in a future version. Use pandas.concat instead.\n",
            "  df = df.append(pd.DataFrame(model_2), ignore_index=True)\n"
          ]
        }
      ]
    },
    {
      "cell_type": "code",
      "source": [
        "df"
      ],
      "metadata": {
        "colab": {
          "base_uri": "https://localhost:8080/",
          "height": 160
        },
        "id": "9AC-lvAu-21D",
        "outputId": "5da9aaca-4aa2-4200-88e4-9f023c079507"
      },
      "execution_count": 37,
      "outputs": [
        {
          "output_type": "execute_result",
          "data": {
            "text/plain": [
              "    model       lr  batch_size  n_hidden  epochs  train_loss\n",
              "0   model  0.00010          64        64      30    0.473587\n",
              "1  model1  0.00100          64       256     100    1.041197\n",
              "2  model2  0.00001          64        64      50    1.245724"
            ],
            "text/html": [
              "\n",
              "  <div id=\"df-199f1847-effb-4001-95d4-27bd988d2572\" class=\"colab-df-container\">\n",
              "    <div>\n",
              "<style scoped>\n",
              "    .dataframe tbody tr th:only-of-type {\n",
              "        vertical-align: middle;\n",
              "    }\n",
              "\n",
              "    .dataframe tbody tr th {\n",
              "        vertical-align: top;\n",
              "    }\n",
              "\n",
              "    .dataframe thead th {\n",
              "        text-align: right;\n",
              "    }\n",
              "</style>\n",
              "<table border=\"1\" class=\"dataframe\">\n",
              "  <thead>\n",
              "    <tr style=\"text-align: right;\">\n",
              "      <th></th>\n",
              "      <th>model</th>\n",
              "      <th>lr</th>\n",
              "      <th>batch_size</th>\n",
              "      <th>n_hidden</th>\n",
              "      <th>epochs</th>\n",
              "      <th>train_loss</th>\n",
              "    </tr>\n",
              "  </thead>\n",
              "  <tbody>\n",
              "    <tr>\n",
              "      <th>0</th>\n",
              "      <td>model</td>\n",
              "      <td>0.00010</td>\n",
              "      <td>64</td>\n",
              "      <td>64</td>\n",
              "      <td>30</td>\n",
              "      <td>0.473587</td>\n",
              "    </tr>\n",
              "    <tr>\n",
              "      <th>1</th>\n",
              "      <td>model1</td>\n",
              "      <td>0.00100</td>\n",
              "      <td>64</td>\n",
              "      <td>256</td>\n",
              "      <td>100</td>\n",
              "      <td>1.041197</td>\n",
              "    </tr>\n",
              "    <tr>\n",
              "      <th>2</th>\n",
              "      <td>model2</td>\n",
              "      <td>0.00001</td>\n",
              "      <td>64</td>\n",
              "      <td>64</td>\n",
              "      <td>50</td>\n",
              "      <td>1.245724</td>\n",
              "    </tr>\n",
              "  </tbody>\n",
              "</table>\n",
              "</div>\n",
              "    <div class=\"colab-df-buttons\">\n",
              "\n",
              "  <div class=\"colab-df-container\">\n",
              "    <button class=\"colab-df-convert\" onclick=\"convertToInteractive('df-199f1847-effb-4001-95d4-27bd988d2572')\"\n",
              "            title=\"Convert this dataframe to an interactive table.\"\n",
              "            style=\"display:none;\">\n",
              "\n",
              "  <svg xmlns=\"http://www.w3.org/2000/svg\" height=\"24px\" viewBox=\"0 -960 960 960\">\n",
              "    <path d=\"M120-120v-720h720v720H120Zm60-500h600v-160H180v160Zm220 220h160v-160H400v160Zm0 220h160v-160H400v160ZM180-400h160v-160H180v160Zm440 0h160v-160H620v160ZM180-180h160v-160H180v160Zm440 0h160v-160H620v160Z\"/>\n",
              "  </svg>\n",
              "    </button>\n",
              "\n",
              "  <style>\n",
              "    .colab-df-container {\n",
              "      display:flex;\n",
              "      gap: 12px;\n",
              "    }\n",
              "\n",
              "    .colab-df-convert {\n",
              "      background-color: #E8F0FE;\n",
              "      border: none;\n",
              "      border-radius: 50%;\n",
              "      cursor: pointer;\n",
              "      display: none;\n",
              "      fill: #1967D2;\n",
              "      height: 32px;\n",
              "      padding: 0 0 0 0;\n",
              "      width: 32px;\n",
              "    }\n",
              "\n",
              "    .colab-df-convert:hover {\n",
              "      background-color: #E2EBFA;\n",
              "      box-shadow: 0px 1px 2px rgba(60, 64, 67, 0.3), 0px 1px 3px 1px rgba(60, 64, 67, 0.15);\n",
              "      fill: #174EA6;\n",
              "    }\n",
              "\n",
              "    .colab-df-buttons div {\n",
              "      margin-bottom: 4px;\n",
              "    }\n",
              "\n",
              "    [theme=dark] .colab-df-convert {\n",
              "      background-color: #3B4455;\n",
              "      fill: #D2E3FC;\n",
              "    }\n",
              "\n",
              "    [theme=dark] .colab-df-convert:hover {\n",
              "      background-color: #434B5C;\n",
              "      box-shadow: 0px 1px 3px 1px rgba(0, 0, 0, 0.15);\n",
              "      filter: drop-shadow(0px 1px 2px rgba(0, 0, 0, 0.3));\n",
              "      fill: #FFFFFF;\n",
              "    }\n",
              "  </style>\n",
              "\n",
              "    <script>\n",
              "      const buttonEl =\n",
              "        document.querySelector('#df-199f1847-effb-4001-95d4-27bd988d2572 button.colab-df-convert');\n",
              "      buttonEl.style.display =\n",
              "        google.colab.kernel.accessAllowed ? 'block' : 'none';\n",
              "\n",
              "      async function convertToInteractive(key) {\n",
              "        const element = document.querySelector('#df-199f1847-effb-4001-95d4-27bd988d2572');\n",
              "        const dataTable =\n",
              "          await google.colab.kernel.invokeFunction('convertToInteractive',\n",
              "                                                    [key], {});\n",
              "        if (!dataTable) return;\n",
              "\n",
              "        const docLinkHtml = 'Like what you see? Visit the ' +\n",
              "          '<a target=\"_blank\" href=https://colab.research.google.com/notebooks/data_table.ipynb>data table notebook</a>'\n",
              "          + ' to learn more about interactive tables.';\n",
              "        element.innerHTML = '';\n",
              "        dataTable['output_type'] = 'display_data';\n",
              "        await google.colab.output.renderOutput(dataTable, element);\n",
              "        const docLink = document.createElement('div');\n",
              "        docLink.innerHTML = docLinkHtml;\n",
              "        element.appendChild(docLink);\n",
              "      }\n",
              "    </script>\n",
              "  </div>\n",
              "\n",
              "\n",
              "<div id=\"df-9f69371f-df71-486c-9b0e-8cdd5cebe8a5\">\n",
              "  <button class=\"colab-df-quickchart\" onclick=\"quickchart('df-9f69371f-df71-486c-9b0e-8cdd5cebe8a5')\"\n",
              "            title=\"Suggest charts\"\n",
              "            style=\"display:none;\">\n",
              "\n",
              "<svg xmlns=\"http://www.w3.org/2000/svg\" height=\"24px\"viewBox=\"0 0 24 24\"\n",
              "     width=\"24px\">\n",
              "    <g>\n",
              "        <path d=\"M19 3H5c-1.1 0-2 .9-2 2v14c0 1.1.9 2 2 2h14c1.1 0 2-.9 2-2V5c0-1.1-.9-2-2-2zM9 17H7v-7h2v7zm4 0h-2V7h2v10zm4 0h-2v-4h2v4z\"/>\n",
              "    </g>\n",
              "</svg>\n",
              "  </button>\n",
              "\n",
              "<style>\n",
              "  .colab-df-quickchart {\n",
              "      --bg-color: #E8F0FE;\n",
              "      --fill-color: #1967D2;\n",
              "      --hover-bg-color: #E2EBFA;\n",
              "      --hover-fill-color: #174EA6;\n",
              "      --disabled-fill-color: #AAA;\n",
              "      --disabled-bg-color: #DDD;\n",
              "  }\n",
              "\n",
              "  [theme=dark] .colab-df-quickchart {\n",
              "      --bg-color: #3B4455;\n",
              "      --fill-color: #D2E3FC;\n",
              "      --hover-bg-color: #434B5C;\n",
              "      --hover-fill-color: #FFFFFF;\n",
              "      --disabled-bg-color: #3B4455;\n",
              "      --disabled-fill-color: #666;\n",
              "  }\n",
              "\n",
              "  .colab-df-quickchart {\n",
              "    background-color: var(--bg-color);\n",
              "    border: none;\n",
              "    border-radius: 50%;\n",
              "    cursor: pointer;\n",
              "    display: none;\n",
              "    fill: var(--fill-color);\n",
              "    height: 32px;\n",
              "    padding: 0;\n",
              "    width: 32px;\n",
              "  }\n",
              "\n",
              "  .colab-df-quickchart:hover {\n",
              "    background-color: var(--hover-bg-color);\n",
              "    box-shadow: 0 1px 2px rgba(60, 64, 67, 0.3), 0 1px 3px 1px rgba(60, 64, 67, 0.15);\n",
              "    fill: var(--button-hover-fill-color);\n",
              "  }\n",
              "\n",
              "  .colab-df-quickchart-complete:disabled,\n",
              "  .colab-df-quickchart-complete:disabled:hover {\n",
              "    background-color: var(--disabled-bg-color);\n",
              "    fill: var(--disabled-fill-color);\n",
              "    box-shadow: none;\n",
              "  }\n",
              "\n",
              "  .colab-df-spinner {\n",
              "    border: 2px solid var(--fill-color);\n",
              "    border-color: transparent;\n",
              "    border-bottom-color: var(--fill-color);\n",
              "    animation:\n",
              "      spin 1s steps(1) infinite;\n",
              "  }\n",
              "\n",
              "  @keyframes spin {\n",
              "    0% {\n",
              "      border-color: transparent;\n",
              "      border-bottom-color: var(--fill-color);\n",
              "      border-left-color: var(--fill-color);\n",
              "    }\n",
              "    20% {\n",
              "      border-color: transparent;\n",
              "      border-left-color: var(--fill-color);\n",
              "      border-top-color: var(--fill-color);\n",
              "    }\n",
              "    30% {\n",
              "      border-color: transparent;\n",
              "      border-left-color: var(--fill-color);\n",
              "      border-top-color: var(--fill-color);\n",
              "      border-right-color: var(--fill-color);\n",
              "    }\n",
              "    40% {\n",
              "      border-color: transparent;\n",
              "      border-right-color: var(--fill-color);\n",
              "      border-top-color: var(--fill-color);\n",
              "    }\n",
              "    60% {\n",
              "      border-color: transparent;\n",
              "      border-right-color: var(--fill-color);\n",
              "    }\n",
              "    80% {\n",
              "      border-color: transparent;\n",
              "      border-right-color: var(--fill-color);\n",
              "      border-bottom-color: var(--fill-color);\n",
              "    }\n",
              "    90% {\n",
              "      border-color: transparent;\n",
              "      border-bottom-color: var(--fill-color);\n",
              "    }\n",
              "  }\n",
              "</style>\n",
              "\n",
              "  <script>\n",
              "    async function quickchart(key) {\n",
              "      const quickchartButtonEl =\n",
              "        document.querySelector('#' + key + ' button');\n",
              "      quickchartButtonEl.disabled = true;  // To prevent multiple clicks.\n",
              "      quickchartButtonEl.classList.add('colab-df-spinner');\n",
              "      try {\n",
              "        const charts = await google.colab.kernel.invokeFunction(\n",
              "            'suggestCharts', [key], {});\n",
              "      } catch (error) {\n",
              "        console.error('Error during call to suggestCharts:', error);\n",
              "      }\n",
              "      quickchartButtonEl.classList.remove('colab-df-spinner');\n",
              "      quickchartButtonEl.classList.add('colab-df-quickchart-complete');\n",
              "    }\n",
              "    (() => {\n",
              "      let quickchartButtonEl =\n",
              "        document.querySelector('#df-9f69371f-df71-486c-9b0e-8cdd5cebe8a5 button');\n",
              "      quickchartButtonEl.style.display =\n",
              "        google.colab.kernel.accessAllowed ? 'block' : 'none';\n",
              "    })();\n",
              "  </script>\n",
              "</div>\n",
              "    </div>\n",
              "  </div>\n"
            ],
            "application/vnd.google.colaboratory.intrinsic+json": {
              "type": "dataframe",
              "variable_name": "df",
              "summary": "{\n  \"name\": \"df\",\n  \"rows\": 3,\n  \"fields\": [\n    {\n      \"column\": \"model\",\n      \"properties\": {\n        \"dtype\": \"string\",\n        \"num_unique_values\": 3,\n        \"samples\": [\n          \"model\",\n          \"model1\",\n          \"model2\"\n        ],\n        \"semantic_type\": \"\",\n        \"description\": \"\"\n      }\n    },\n    {\n      \"column\": \"lr\",\n      \"properties\": {\n        \"dtype\": \"number\",\n        \"std\": 0.0005474486277268398,\n        \"min\": 1e-05,\n        \"max\": 0.001,\n        \"num_unique_values\": 3,\n        \"samples\": [\n          0.0001,\n          0.001,\n          1e-05\n        ],\n        \"semantic_type\": \"\",\n        \"description\": \"\"\n      }\n    },\n    {\n      \"column\": \"batch_size\",\n      \"properties\": {\n        \"dtype\": \"number\",\n        \"std\": 0,\n        \"min\": 64,\n        \"max\": 64,\n        \"num_unique_values\": 1,\n        \"samples\": [\n          64\n        ],\n        \"semantic_type\": \"\",\n        \"description\": \"\"\n      }\n    },\n    {\n      \"column\": \"n_hidden\",\n      \"properties\": {\n        \"dtype\": \"number\",\n        \"std\": 110,\n        \"min\": 64,\n        \"max\": 256,\n        \"num_unique_values\": 2,\n        \"samples\": [\n          256\n        ],\n        \"semantic_type\": \"\",\n        \"description\": \"\"\n      }\n    },\n    {\n      \"column\": \"epochs\",\n      \"properties\": {\n        \"dtype\": \"number\",\n        \"std\": 36,\n        \"min\": 30,\n        \"max\": 100,\n        \"num_unique_values\": 3,\n        \"samples\": [\n          30\n        ],\n        \"semantic_type\": \"\",\n        \"description\": \"\"\n      }\n    },\n    {\n      \"column\": \"train_loss\",\n      \"properties\": {\n        \"dtype\": \"number\",\n        \"std\": 0.40004325764645776,\n        \"min\": 0.47358688712120056,\n        \"max\": 1.245723843574524,\n        \"num_unique_values\": 3,\n        \"samples\": [\n          0.47358688712120056\n        ],\n        \"semantic_type\": \"\",\n        \"description\": \"\"\n      }\n    }\n  ]\n}"
            }
          },
          "metadata": {},
          "execution_count": 37
        }
      ]
    },
    {
      "cell_type": "markdown",
      "source": [
        "This the set of hyperparameters that i have tried. the loss is minimum for the first model, we can conclude that we need to keep the model simple to get good results."
      ],
      "metadata": {
        "id": "7F6dvEg7_Xqj"
      }
    }
  ]
}