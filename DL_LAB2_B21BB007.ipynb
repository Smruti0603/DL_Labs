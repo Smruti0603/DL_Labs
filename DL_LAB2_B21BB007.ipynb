{
  "nbformat": 4,
  "nbformat_minor": 0,
  "metadata": {
    "colab": {
      "provenance": [],
      "gpuType": "T4"
    },
    "kernelspec": {
      "name": "python3",
      "display_name": "Python 3"
    },
    "language_info": {
      "name": "python"
    },
    "accelerator": "GPU"
  },
  "cells": [
    {
      "cell_type": "markdown",
      "source": [
        "\n",
        "Develop a fully connected autoencoder using PyTorch, comprising three encoder and three decoder layers. Train the autoencoder on the Street View House Numbers (SVHN) dataset and conduct a comprehensive evaluation of its reconstruction accuracy. Extend the autoencoder by incorporating a sparsity constraint on the hidden layer. Systematically assess the impact of sparsity on the learned representations and the overall reconstruction performance of the model. Provide insights into how the introduction of sparsity affects the autoencoder's ability to capture meaningful features and improve reconstruction quality."
      ],
      "metadata": {
        "id": "RaAGPjSpmUOC"
      }
    },
    {
      "cell_type": "code",
      "source": [
        "from skimage.metrics import structural_similarity as ssim"
      ],
      "metadata": {
        "id": "SCrwKsj6_vuZ"
      },
      "execution_count": 3,
      "outputs": []
    },
    {
      "cell_type": "code",
      "execution_count": 4,
      "metadata": {
        "id": "uoZIF5t8bUpV"
      },
      "outputs": [],
      "source": [
        "import torch\n",
        "import torch.nn as nn\n",
        "import torch.optim as optim\n",
        "import torch.nn.functional as F\n",
        "import torchvision\n",
        "import torchvision.transforms as transforms\n",
        "import numpy as np\n",
        "from torch.utils.data import Dataset, DataLoader\n",
        "import pandas as pd\n",
        "import matplotlib.pyplot as plt\n",
        "from math import log10, sqrt\n",
        "import cv2\n",
        "from skimage import metrics\n",
        "\n",
        "from PIL import Image"
      ]
    },
    {
      "cell_type": "code",
      "source": [
        "batch_size = 50\n",
        "learning_rate = 0.01\n",
        "epochs = 10"
      ],
      "metadata": {
        "id": "ELRKYUy-nF4Z"
      },
      "execution_count": 5,
      "outputs": []
    },
    {
      "cell_type": "code",
      "source": [
        "#make everything on gpu\n",
        "device = torch.device('cuda' if torch.cuda.is_available() else 'cpu')"
      ],
      "metadata": {
        "id": "olzIAh2ldUlw"
      },
      "execution_count": 6,
      "outputs": []
    },
    {
      "cell_type": "markdown",
      "source": [
        "###Training and testing dataloaders"
      ],
      "metadata": {
        "id": "CF0nvjVbm6-C"
      }
    },
    {
      "cell_type": "code",
      "source": [
        "#Download the dataset\n",
        "transform = torchvision.transforms.Compose([torchvision.transforms.ToTensor()])\n",
        "\n",
        "dataset = torchvision.datasets.SVHN(\n",
        "    root=\"~/torch_datasets\", transform=transform, download=True\n",
        ")\n",
        "\n",
        "#Splitting the dataset\n",
        "train_set, test_set, val_set = torch.utils.data.random_split(dataset, [0.6 , 0.2 , 0.2])\n",
        "\n",
        "#Data loaders\n",
        "train_loader = torch.utils.data.DataLoader(\n",
        "      train_set,batch_size=batch_size, shuffle=True\n",
        "   )\n",
        "\n",
        "test_loader = torch.utils.data.DataLoader(\n",
        "      test_set, batch_size=batch_size, shuffle=False\n",
        "     )\n",
        "\n",
        "val_loader = torch.utils.data.DataLoader(\n",
        "      val_set, batch_size=batch_size, shuffle=False\n",
        "     )"
      ],
      "metadata": {
        "colab": {
          "base_uri": "https://localhost:8080/"
        },
        "id": "ASXAbKlPdWvL",
        "outputId": "59a0c412-1191-41fb-f722-e66dae4b369a"
      },
      "execution_count": 7,
      "outputs": [
        {
          "output_type": "stream",
          "name": "stdout",
          "text": [
            "Using downloaded and verified file: /root/torch_datasets/train_32x32.mat\n"
          ]
        }
      ]
    },
    {
      "cell_type": "markdown",
      "source": [
        "###Undercomplete Autoencoder"
      ],
      "metadata": {
        "id": "Sc9E8FIhoT2M"
      }
    },
    {
      "cell_type": "code",
      "source": [
        "class UnderCompleteAutoencoder(nn.Module):\n",
        "    def __init__(self,input_dim):\n",
        "        super(UnderCompleteAutoencoder, self).__init__()\n",
        "\n",
        "        # Encoder layers\n",
        "        self.encoder = nn.Sequential(\n",
        "            nn.Linear(input_dim, int(input_dim*0.25)),\n",
        "            nn.ReLU(),\n",
        "            nn.Linear(int(input_dim*0.25), int(input_dim*0.5)),\n",
        "            nn.ReLU(),\n",
        "            nn.Linear(int(input_dim*0.5), int(input_dim*0.75)),\n",
        "            nn.ReLU()\n",
        "        )\n",
        "\n",
        "        # Decoder layers\n",
        "        self.decoder = nn.Sequential(\n",
        "            nn.Linear(int(input_dim*0.75), int(input_dim*0.5)),\n",
        "            nn.ReLU(),\n",
        "            nn.Linear(int(input_dim*0.5), int(input_dim*0.25)),\n",
        "            nn.ReLU(),\n",
        "            nn.Linear(int(input_dim*0.25), input_dim),\n",
        "            nn.Sigmoid()  # Sigmoid activation to squash output between 0 and 1\n",
        "        )\n",
        "\n",
        "    def forward(self, x):\n",
        "        x = self.encoder(x)\n",
        "        x = self.decoder(x)\n",
        "        return x"
      ],
      "metadata": {
        "id": "uN3P1anDoQrn"
      },
      "execution_count": 8,
      "outputs": []
    },
    {
      "cell_type": "code",
      "source": [
        "model = UnderCompleteAutoencoder(input_dim= 1024).to(device)"
      ],
      "metadata": {
        "id": "zel1cyfMpSYQ"
      },
      "execution_count": 13,
      "outputs": []
    },
    {
      "cell_type": "code",
      "source": [
        "# mean-squared error loss\n",
        "criterion = nn.MSELoss()"
      ],
      "metadata": {
        "id": "RNBk1HOJrDyt"
      },
      "execution_count": 14,
      "outputs": []
    },
    {
      "cell_type": "code",
      "source": [
        "# Adam optimizer with learning rate 1e-3\n",
        "optimizer = optim.Adam(model.parameters(), lr=learning_rate)"
      ],
      "metadata": {
        "id": "2Nshe1khqywn"
      },
      "execution_count": 15,
      "outputs": []
    },
    {
      "cell_type": "code",
      "source": [
        "l1 = []\n",
        "l2 = []\n",
        "\n",
        "# training step\n",
        "for epoch in range(epochs):\n",
        "    loss = 0\n",
        "    for batch_features, _ in train_loader:\n",
        "        # reshape mini-batch data to [N, 784] matrix\n",
        "        # load it to the active device\n",
        "        batch_features = batch_features.view(-1, 1024).to(device)\n",
        "\n",
        "        # reset the gradients back to zero\n",
        "        # PyTorch accumulates gradients on subsequent backward passes\n",
        "        optimizer.zero_grad()\n",
        "\n",
        "        # compute reconstructions\n",
        "        outputs = model(batch_features)\n",
        "\n",
        "        # compute training reconstruction loss\n",
        "        train_loss = criterion(outputs, batch_features)\n",
        "\n",
        "        # compute accumulated gradients\n",
        "        train_loss.backward()\n",
        "\n",
        "        # perform parameter update based on current gradients\n",
        "        optimizer.step()\n",
        "\n",
        "        # add the mini-batch training loss to epoch loss\n",
        "        loss += train_loss.item()\n",
        "\n",
        "    # compute the epoch training loss\n",
        "\n",
        "    l1.append(loss / len(train_loader))\n",
        "\n",
        "\n",
        "\n",
        "    valid_loss_f = 0.0\n",
        "    model.eval()     # Optional when not using Model Specific layer\n",
        "    for batch_features, _ in val_loader:\n",
        "        # Transfer Data to GPU if available\n",
        "        batch_features = batch_features.view(-1, 1024).to(device)\n",
        "\n",
        "        # Forward Pass\n",
        "        output = model(batch_features)\n",
        "        # Find the Loss\n",
        "        valid_loss = criterion(output, batch_features)\n",
        "        # Calculate Loss\n",
        "        valid_loss_f += valid_loss.item()\n",
        "    l2.append(valid_loss_f / len(val_loader))\n",
        "\n",
        "\n",
        "\n",
        "\n",
        "\n",
        "\n",
        "    # display the epoch training loss and Validation Loss\n",
        "    # print(\"epoch : {}/{}, recon loss = {:.8f}\".format(epoch + 1, epochs, loss))\n",
        "    print(f'Epoch {epoch+1} \\n \\t\\t Training Loss: { loss / len(train_loader)} \\t\\t Validation Loss: { valid_loss_f / len(val_loader)}')\n"
      ],
      "metadata": {
        "colab": {
          "base_uri": "https://localhost:8080/"
        },
        "id": "i5-9IVgSrd_g",
        "outputId": "ee54beb2-7be9-4cb6-ce5c-fe5d90705b45"
      },
      "execution_count": 65,
      "outputs": [
        {
          "output_type": "stream",
          "name": "stdout",
          "text": [
            "Epoch 1 \n",
            " \t\t Training Loss: 0.015450826901095834 \t\t Validation Loss: 0.015261983451414473\n",
            "Epoch 2 \n",
            " \t\t Training Loss: 0.01545575629094277 \t\t Validation Loss: 0.015258220376028699\n",
            "Epoch 3 \n",
            " \t\t Training Loss: 0.015471150120720267 \t\t Validation Loss: 0.015287839288056708\n",
            "Epoch 4 \n",
            " \t\t Training Loss: 0.015451027068775148 \t\t Validation Loss: 0.015258378792731534\n",
            "Epoch 5 \n",
            " \t\t Training Loss: 0.015455308262343434 \t\t Validation Loss: 0.015265393907166257\n",
            "Epoch 6 \n",
            " \t\t Training Loss: 0.015458624250128526 \t\t Validation Loss: 0.015321587291577843\n",
            "Epoch 7 \n",
            " \t\t Training Loss: 0.01545052120716057 \t\t Validation Loss: 0.015276537634761764\n",
            "Epoch 8 \n",
            " \t\t Training Loss: 0.015460532657082447 \t\t Validation Loss: 0.015336484524744506\n",
            "Epoch 9 \n",
            " \t\t Training Loss: 0.01546152262228795 \t\t Validation Loss: 0.01526829342161413\n",
            "Epoch 10 \n",
            " \t\t Training Loss: 0.015455717793454163 \t\t Validation Loss: 0.015282110779919998\n"
          ]
        }
      ]
    },
    {
      "cell_type": "code",
      "source": [
        "l1"
      ],
      "metadata": {
        "colab": {
          "base_uri": "https://localhost:8080/"
        },
        "id": "00qSe9rj_B4B",
        "outputId": "7c98ab31-ee9a-4d61-ace5-3ff6336a525a"
      },
      "execution_count": 66,
      "outputs": [
        {
          "output_type": "execute_result",
          "data": {
            "text/plain": [
              "[0.015450826901095834,\n",
              " 0.01545575629094277,\n",
              " 0.015471150120720267,\n",
              " 0.015451027068775148,\n",
              " 0.015455308262343434,\n",
              " 0.015458624250128526,\n",
              " 0.01545052120716057,\n",
              " 0.015460532657082447,\n",
              " 0.01546152262228795,\n",
              " 0.015455717793454163]"
            ]
          },
          "metadata": {},
          "execution_count": 66
        }
      ]
    },
    {
      "cell_type": "code",
      "source": [
        "l2"
      ],
      "metadata": {
        "colab": {
          "base_uri": "https://localhost:8080/"
        },
        "id": "2KJqTGVD_EUs",
        "outputId": "c884abcb-a878-4775-a413-de8b0f6c2f26"
      },
      "execution_count": 67,
      "outputs": [
        {
          "output_type": "execute_result",
          "data": {
            "text/plain": [
              "[0.015261983451414473,\n",
              " 0.015258220376028699,\n",
              " 0.015287839288056708,\n",
              " 0.015258378792731534,\n",
              " 0.015265393907166257,\n",
              " 0.015321587291577843,\n",
              " 0.015276537634761764,\n",
              " 0.015336484524744506,\n",
              " 0.01526829342161413,\n",
              " 0.015282110779919998]"
            ]
          },
          "metadata": {},
          "execution_count": 67
        }
      ]
    },
    {
      "cell_type": "code",
      "source": [
        "#Traning loss and Validation loss\n",
        "\n",
        "plt.plot(l1, color='r', label='Training Loss')\n",
        "plt.plot(l2, color='g', label='Validation Loss')\n",
        "\n",
        "plt.xlabel(\"Epochs\")\n",
        "plt.ylabel(\"Loss\")\n",
        "plt.title(\"Training and Validation loss of Undercomplete Autoencoder\")\n",
        "\n",
        "plt.legend()\n",
        "plt.show()"
      ],
      "metadata": {
        "colab": {
          "base_uri": "https://localhost:8080/",
          "height": 472
        },
        "id": "cpLrZBr687_7",
        "outputId": "82acbe8f-3c52-4c71-a1a9-10b073b5b3b4"
      },
      "execution_count": 68,
      "outputs": [
        {
          "output_type": "display_data",
          "data": {
            "text/plain": [
              "<Figure size 640x480 with 1 Axes>"
            ],
            "image/png": "[encoded data removed]"
          },
          "metadata": {}
        }
      ]
    },
    {
      "cell_type": "code",
      "source": [
        "def PSNR(original, compressed):\n",
        "    mse = np.mean((original - compressed) ** 2)\n",
        "    if(mse == 0):  # MSE is zero means no noise is present in the signal .\n",
        "                  # Therefore PSNR have no importance.\n",
        "        return 100\n",
        "    max_pixel = 255.0\n",
        "    psnr = 20 * log10(max_pixel / sqrt(mse))\n",
        "    return psnr,mse\n"
      ],
      "metadata": {
        "id": "S-s_HEc70mq_"
      },
      "execution_count": 11,
      "outputs": []
    },
    {
      "cell_type": "code",
      "source": [
        "p = []\n",
        "mse = []"
      ],
      "metadata": {
        "id": "8s9LwuH_0-RF"
      },
      "execution_count": 15,
      "outputs": []
    },
    {
      "cell_type": "code",
      "source": [
        "pip install torchmetrics"
      ],
      "metadata": {
        "id": "7b4NV98by5Nw"
      },
      "execution_count": null,
      "outputs": []
    },
    {
      "cell_type": "code",
      "source": [
        "import torch\n",
        "from torchmetrics.image import StructuralSimilarityIndexMeasure"
      ],
      "metadata": {
        "id": "OOSn2mJ6ymmt"
      },
      "execution_count": 9,
      "outputs": []
    },
    {
      "cell_type": "code",
      "source": [
        "#calculating ssim using inbuilt function\n",
        "metric = StructuralSimilarityIndexMeasure(data_range=1.0).to(device)\n",
        "values = [ ]"
      ],
      "metadata": {
        "id": "KV6VBi2uyOTh"
      },
      "execution_count": 10,
      "outputs": []
    },
    {
      "cell_type": "code",
      "source": [
        "#Testing the dataset\n",
        "test_examples = None\n",
        "\n",
        "with torch.no_grad():\n",
        "    for batch_features in test_loader:\n",
        "        batch_features = batch_features[0].to(device)\n",
        "        test_examples1 = batch_features.view(-1, 1024)\n",
        "        # test_examples = batch_features.view(batch_features.size(0), -1)\n",
        "        reconstruction = model(test_examples1)\n",
        "        # print(reconstruction.shape)\n",
        "        # print(batch_features.shape)\n",
        "        # print(test_examples.shape)\n",
        "\n",
        "        ori = np.array(batch_features.cpu())\n",
        "        fi = np.array(reconstruction.cpu())\n",
        "\n",
        "\n",
        "\n",
        "        # print(ori.shape)\n",
        "        print(fi.shape)\n",
        "\n",
        "        if fi.size == 3072 or len(test_examples1) == 3:\n",
        "            break\n",
        "        else:\n",
        "            fi = fi.reshape(50, 3 , 32 , 32)\n",
        "            evl = PSNR(ori, fi)\n",
        "\n",
        "            reshaped_tensor = reconstruction.view(50, 3 , 32, 32)\n",
        "            #storing ssim values\n",
        "            values.append(metric(batch_features, reshaped_tensor))\n",
        "            #storing mse and PSNR\n",
        "            mse.append(float(evl[1]))\n",
        "            p.append(float(evl[0]))\n",
        "\n",
        "        # mse.append(float(torch.mean((test_examples - reconstruction) ** 2)))\n",
        "        # psnr.append(evl)\n",
        "\n",
        "\n",
        "\n",
        ""
      ],
      "metadata": {
        "id": "GzirPR7trtq4"
      },
      "execution_count": null,
      "outputs": []
    },
    {
      "cell_type": "code",
      "source": [
        "values[1].item()"
      ],
      "metadata": {
        "colab": {
          "base_uri": "https://localhost:8080/"
        },
        "id": "M6fQzoNi0r3O",
        "outputId": "13fe0671-ee64-492d-c0d0-a03680580d2b"
      },
      "execution_count": 20,
      "outputs": [
        {
          "output_type": "execute_result",
          "data": {
            "text/plain": [
              "0.28031712770462036"
            ]
          },
          "metadata": {},
          "execution_count": 20
        }
      ]
    },
    {
      "cell_type": "code",
      "source": [
        "print(p)"
      ],
      "metadata": {
        "colab": {
          "base_uri": "https://localhost:8080/"
        },
        "id": "klHLu-ar6ygp",
        "outputId": "fffd2bd5-d3ea-4b2c-c103-f02f831d476f"
      },
      "execution_count": 21,
      "outputs": [
        {
          "output_type": "stream",
          "name": "stdout",
          "text": [
            "[66.30481652233819, 66.63959844048543, 66.71176659852264, 66.06701674178316, 66.80645441095868, 66.8421467284175, 66.45297141916399, 66.00341335830528, 66.64481437122839, 65.61903990878068, 65.76796013663122, 65.8138027238997, 66.04818896796695, 66.7470598448757, 67.3813619339837, 65.88481468951356, 65.46645865469327, 66.23139457524194, 66.15116922807081, 66.36481207738375, 65.69630918348219, 66.3233956888256, 66.78172133196783, 66.63136155142854, 66.60242967649518, 64.92746127132486, 67.20015949093515, 66.07119484992808, 65.84204788833284, 65.99086676285626, 65.80046246087481, 66.29542797071142, 66.88173102737872, 66.13840279304995, 66.45357448954448, 66.29200843179846, 67.2999378524305, 66.69068813841547, 66.47696909032577, 66.56233059046284, 65.7538878100903, 65.9568295932281, 66.2044023959424, 65.57215373267485, 65.87944183753513, 66.80420537546664, 65.89396386880034, 65.91328526186683, 66.39189482842741, 66.48509109205442, 66.23137394189895, 65.07914021892783, 65.26004765827689, 66.50455959238604, 67.2560874686942, 65.71708026950884, 65.78719841804075, 65.43720661616914, 66.15110923047322, 65.92617418450115, 66.7864329671123, 65.50941185691646, 65.73246628089433, 66.00135590550863, 66.24752402070266, 66.90036986636956, 66.15093693428805, 66.20075938734394, 65.84481152154133, 66.34102195950213, 65.78680231023705, 66.12878213073155, 66.09164156268092, 66.37291705243166, 66.49097491523588, 65.96970350219907, 65.29318178173106, 65.51931695415024, 65.98609175930402, 66.36725963312847, 65.46584592769135, 66.07256595190114, 66.91638428655469, 66.17676571617024, 66.5076778020476, 66.63318444598553, 66.3281140165895, 65.75042991423457, 66.2737262885673, 66.23532453277426, 66.24754997402584, 65.87638940284165, 67.25405060396005, 65.8929060206497, 66.98045281923038, 66.38409064605548, 65.87191935722528, 67.3895359119504, 66.45653415650705, 66.59837123419352, 67.82778636755499, 66.26283139777712, 65.67009336750334, 66.18935070063914, 65.65582211109005, 65.62713271392646, 65.70247042630469, 65.87235841203794, 66.05163274224657, 66.46007338974619, 66.90449564193729, 66.18237543033645, 66.17384655659318, 66.91591857273379, 66.20114142121372, 66.09848922065905, 66.41502049199804, 66.87290123196478, 65.87884216021075, 65.78987497857852, 65.92325028175458, 67.01793440992846, 66.30187852774759, 66.45552665886365, 65.72566533770453, 66.49822045376845, 66.80905514556615, 66.01388319931871, 65.95812090900992, 66.4292849422735, 66.23864660388746, 66.19834061960006, 65.98615396310274, 65.57198364213684, 65.96323206661955, 67.1145725798603, 67.14301679363535, 66.09164156268092, 65.89747947625108, 65.84234208265505, 65.8596816904676, 65.94907849298795, 66.5340889620788, 65.99464029259518, 65.78685889485429, 66.3336845383868, 66.02665701468135, 64.64269222388056, 65.64237793577256, 65.96323795965189, 66.72147424566005, 66.51929024891366, 66.36402381900243, 65.90821069461703, 66.09794413090995, 66.44065238445671, 66.3069982014033, 65.60001036885741, 66.01751865715686, 66.02760041835037, 65.99124337520352, 66.24114944594629, 66.7361514800149, 66.11395091330655, 66.0279607898473, 66.40675532204074, 66.14052724574911, 67.29060280241954, 66.28939564833456, 66.30918815635555, 65.99128390498784, 66.98264784663353, 66.27074467178602, 66.3976159305999, 66.66222426921836, 67.284019679236, 66.7568506246914, 65.00838874305119, 66.60450002402166, 65.98880931613893, 65.95714490760571, 66.20344419167347, 66.34943337304948, 66.08242918267268, 65.71352914042406, 65.75064641970985, 66.43120188168015, 66.62913238152066, 66.61066740174478, 66.1665945408971, 66.8933496691507, 66.41803933140164, 66.57904473797915, 65.92544631035597, 65.52595882782606, 66.2248300237398, 66.50608210749604, 66.49812380406244, 66.16901911610765, 66.68028605376098, 67.3384201736343, 65.82295551652102, 66.6626797094684, 65.92907082272289, 66.27206055975763, 67.14142130281115, 65.78542140259935, 66.09670172383557, 65.99461209763074, 66.288739257503, 66.92790847925737, 66.3130968244475, 65.97849084581233, 66.71275742581872, 65.92254673620599, 66.3948374234908, 66.70473052818535, 66.54243138386003, 65.96012460616473, 65.82686855366289, 66.17415895368032, 66.19996404514166, 66.10145548483756, 66.41423124095999, 66.53328281490899, 66.15247450916615, 65.71142979289007, 65.89773633205743, 66.43661713592878, 67.33642248563818, 66.27069986691527, 65.60231050324981, 66.12222939117945, 66.76693149987446, 66.6067456284716, 66.57829781618015, 65.64794835838156, 66.52796246976263, 66.17123330229657, 65.82670722461779, 65.8330778492723, 66.95322984154532, 66.29304227616635, 66.4856266376309, 66.49219479359387, 66.2473247882354, 66.27609769861095, 65.5952003359976, 66.81138609458566, 66.8020638383532, 65.90337599130123, 66.62264321328946, 65.57151962953195, 67.24988100379755, 65.29620344645896, 66.50703155025148, 66.25852718095635, 66.40629032255464, 65.88521308601148, 66.99046408162384, 65.60517709734212, 65.9413241003877, 66.6896347047586, 67.35804318407877, 65.28176837556347, 66.47288975616951, 65.92356365407991, 66.13307424454665, 66.48995385294657, 65.57161027413278, 66.42056290949432, 66.18423265042105, 66.0862048449815, 65.754228041402, 66.91439304465808, 65.93919426283928, 67.26181140622808, 66.34658949426499, 66.45635425854249, 66.40013553995414, 66.31517536015755, 66.28296940638907, 66.40691550005907, 66.53711187617797, 66.38298567740569, 66.56155328354026, 66.13209080286688, 66.42431403038265, 66.6094941450973, 66.96701320949282, 66.39064644109044, 66.56277821101484, 66.51430283383505]\n"
          ]
        }
      ]
    },
    {
      "cell_type": "code",
      "source": [
        "sum = 0\n",
        "for i in range(len(p)):\n",
        "    sum += p[i]\n",
        "\n",
        "psnr_average = sum/len(p)\n",
        "print(f'PSNR :{psnr_average}')"
      ],
      "metadata": {
        "colab": {
          "base_uri": "https://localhost:8080/"
        },
        "id": "uB_ZhPrRhQZZ",
        "outputId": "abb76eff-eef1-4427-bb65-ce24d513091d"
      },
      "execution_count": 51,
      "outputs": [
        {
          "output_type": "stream",
          "name": "stdout",
          "text": [
            "PSNR :66.26049302798162\n"
          ]
        }
      ]
    },
    {
      "cell_type": "code",
      "source": [
        "sum = 0\n",
        "for i in range(len(values)):\n",
        "    sum += values[i].item()\n",
        "\n",
        "ssim_average = sum/len(values)\n",
        "print(f'SSIM :{ssim_average}')"
      ],
      "metadata": {
        "colab": {
          "base_uri": "https://localhost:8080/"
        },
        "id": "n3GENXqK0_gM",
        "outputId": "3fa8297c-f7bc-4dcf-df50-5960652cf8eb"
      },
      "execution_count": 52,
      "outputs": [
        {
          "output_type": "stream",
          "name": "stdout",
          "text": [
            "SSIM :0.2836432553217476\n"
          ]
        }
      ]
    },
    {
      "cell_type": "code",
      "source": [
        "with torch.no_grad():\n",
        "    number = 10\n",
        "\n",
        "    plt.figure(figsize=(20, 4))\n",
        "    for index in range(3):\n",
        "        # display original\n",
        "        ax = plt.subplot(2, number, index + 1)\n",
        "        plt.imshow(test_examples1[index].cpu().numpy().reshape(32, 32))\n",
        "        plt.gray()\n",
        "        ax.get_xaxis().set_visible(False)\n",
        "        ax.get_yaxis().set_visible(False)\n",
        "\n",
        "        # display reconstruction\n",
        "        ax = plt.subplot(2, number, index + 1 + number)\n",
        "        plt.imshow(reconstruction[index].cpu().numpy().reshape(32,32))\n",
        "        plt.gray()\n",
        "        ax.get_xaxis().set_visible(False)\n",
        "        ax.get_yaxis().set_visible(False)\n",
        "    plt.show()"
      ],
      "metadata": {
        "colab": {
          "base_uri": "https://localhost:8080/",
          "height": 336
        },
        "id": "fyGxl-Vr8iaf",
        "outputId": "6906bf70-90e9-4a36-f37f-15d9301d2c28"
      },
      "execution_count": 53,
      "outputs": [
        {
          "output_type": "display_data",
          "data": {
            "text/plain": [
              "<Figure size 2000x400 with 6 Axes>"
            ],
            "image/png": "[encoded data removed]"
          },
          "metadata": {}
        }
      ]
    },
    {
      "cell_type": "markdown",
      "source": [
        "###SparseAuto Endcoder"
      ],
      "metadata": {
        "id": "T-SSCxHcqEVi"
      }
    },
    {
      "cell_type": "code",
      "source": [
        "#Sparse loss function\n",
        "\n",
        "reg_param = 1e-3\n",
        "# get the layers of model as a list\n",
        "model_children = list(model.children())\n",
        "print(model_children)\n",
        "# define the sparse loss function\n",
        "def sparse_loss(autoencoder, images):\n",
        "    loss = 0\n",
        "    values = images\n",
        "    #range = 3 as we have 3 layers\n",
        "    for i in range(3):\n",
        "        fc = list(model.encoder.children())[2 * i]\n",
        "        act = list(model.encoder.children())[2 * i + 1]\n",
        "        values = act(fc(values))\n",
        "        loss += torch.mean(torch.abs(values))\n",
        "    for i in range(3):\n",
        "        fc = list(model.decoder.children())[2 * i]\n",
        "        act = list(model.decoder.children())[2 * i + 1]\n",
        "        values = act(fc(values))\n",
        "        loss += torch.mean(torch.abs(values))\n",
        "    return loss"
      ],
      "metadata": {
        "colab": {
          "base_uri": "https://localhost:8080/"
        },
        "id": "QEpxIndUsKXB",
        "outputId": "819842e0-0c01-4105-c232-558a1458c31e"
      },
      "execution_count": 16,
      "outputs": [
        {
          "output_type": "stream",
          "name": "stdout",
          "text": [
            "[Sequential(\n",
            "  (0): Linear(in_features=1024, out_features=256, bias=True)\n",
            "  (1): ReLU()\n",
            "  (2): Linear(in_features=256, out_features=512, bias=True)\n",
            "  (3): ReLU()\n",
            "  (4): Linear(in_features=512, out_features=768, bias=True)\n",
            "  (5): ReLU()\n",
            "), Sequential(\n",
            "  (0): Linear(in_features=768, out_features=512, bias=True)\n",
            "  (1): ReLU()\n",
            "  (2): Linear(in_features=512, out_features=256, bias=True)\n",
            "  (3): ReLU()\n",
            "  (4): Linear(in_features=256, out_features=1024, bias=True)\n",
            "  (5): Sigmoid()\n",
            ")]\n"
          ]
        }
      ]
    },
    {
      "cell_type": "code",
      "source": [
        "l1_sparse = []\n",
        "l2_sparse = []\n",
        "\n",
        "# training step\n",
        "for epoch in range(10):\n",
        "    loss1 = 0\n",
        "    for batch_features, _ in train_loader:\n",
        "        # reshape mini-batch data to [N, 784] matrix\n",
        "        # load it to the active device\n",
        "        batch_features = batch_features.view(-1, 1024).to(device)\n",
        "\n",
        "        # reset the gradients back to zero\n",
        "        # PyTorch accumulates gradients on subsequent backward passes\n",
        "        optimizer.zero_grad()\n",
        "\n",
        "        # compute reconstructions\n",
        "        outputs = model(batch_features)\n",
        "\n",
        "        # compute training reconstruction Sparse loss\n",
        "        l1_loss = sparse_loss(model, batch_features)\n",
        "\n",
        "        train_loss = criterion(outputs, batch_features) + l1_loss * reg_param\n",
        "\n",
        "        # compute accumulated gradients\n",
        "        train_loss.backward()\n",
        "\n",
        "        # perform parameter update based on current gradients\n",
        "        optimizer.step()\n",
        "\n",
        "        # add the mini-batch training loss to epoch loss\n",
        "        loss1 += train_loss.item()\n",
        "\n",
        "    # compute the epoch training loss\n",
        "    loss = loss1 / len(train_loader)\n",
        "\n",
        "    l1_sparse.append(loss1/ len(train_loader))\n",
        "\n",
        "\n",
        "\n",
        "\n",
        "    valid_loss_f = 0.0\n",
        "    model.eval()     # Optional when not using Model Specific layer\n",
        "    for data, labels in val_loader:\n",
        "        # Transfer Data to GPU if available\n",
        "        batch_features = batch_features.view(-1, 1024).to(device)\n",
        "\n",
        "        # Forward Pass\n",
        "        output = model(batch_features)\n",
        "\n",
        "        l1_loss = sparse_loss(model, batch_features)\n",
        "        # Find the Loss\n",
        "        valid_loss = criterion(outputs, batch_features) + l1_loss * reg_param\n",
        "        # Calculate Loss\n",
        "        valid_loss_f += valid_loss.item()\n",
        "    l2_sparse.append(valid_loss_f / len(val_loader))\n",
        "\n",
        "\n",
        "\n",
        "\n",
        "    # display the epoch training loss and Validation Loss\n",
        "    # print(\"epoch : {}/{}, recon loss = {:.8f}\".format(epoch + 1, epochs, loss))\n",
        "    print(f'Epoch {epoch+1} \\n \\t\\t Training Loss: { loss1 / len(train_loader)} \\t\\t Validation Loss: { valid_loss_f / len(val_loader)}')\n",
        "\n",
        "    # display the epoch training loss\n",
        "    # print(\"epoch : {}/{}, recon loss = {:.8f}\".format(epoch + 1, epochs, loss))"
      ],
      "metadata": {
        "colab": {
          "base_uri": "https://localhost:8080/"
        },
        "id": "85FSn6GxvZ0D",
        "outputId": "6ddb810d-65f0-498e-da6a-0a3807b92486"
      },
      "execution_count": 17,
      "outputs": [
        {
          "output_type": "stream",
          "name": "stdout",
          "text": [
            "Epoch 1 \n",
            " \t\t Training Loss: 0.01760553998279978 \t\t Validation Loss: 0.009436112828552723\n",
            "Epoch 2 \n",
            " \t\t Training Loss: 0.016013410351958805 \t\t Validation Loss: 0.012310126796364784\n",
            "Epoch 3 \n",
            " \t\t Training Loss: 0.015975297083654864 \t\t Validation Loss: 0.01860472746193409\n",
            "Epoch 4 \n",
            " \t\t Training Loss: 0.015977416594978422 \t\t Validation Loss: 0.010922681540250778\n",
            "Epoch 5 \n",
            " \t\t Training Loss: 0.015967730912168257 \t\t Validation Loss: 0.011826088652014732\n",
            "Epoch 6 \n",
            " \t\t Training Loss: 0.015921037649439477 \t\t Validation Loss: 0.009842709638178349\n",
            "Epoch 7 \n",
            " \t\t Training Loss: 0.01597598964475434 \t\t Validation Loss: 0.019484838470816612\n",
            "Epoch 8 \n",
            " \t\t Training Loss: 0.015906279885464093 \t\t Validation Loss: 0.010303502902388573\n",
            "Epoch 9 \n",
            " \t\t Training Loss: 0.015927168829578228 \t\t Validation Loss: 0.014959705993533134\n",
            "Epoch 10 \n",
            " \t\t Training Loss: 0.015929113145367328 \t\t Validation Loss: 0.01008519809693098\n"
          ]
        }
      ]
    },
    {
      "cell_type": "code",
      "source": [
        "#Traning loss and Validation loss\n",
        "\n",
        "plt.plot(l1_sparse, color='r', label='Training Loss')\n",
        "plt.plot(l2_sparse, color='g', label='Validation Loss')\n",
        "\n",
        "plt.xlabel(\"Epochs\")\n",
        "plt.ylabel(\"Loss\")\n",
        "plt.title(\"Training and Validation loss of Sparse Autoencoder\")\n",
        "\n",
        "plt.legend()\n",
        "plt.show()"
      ],
      "metadata": {
        "colab": {
          "base_uri": "https://localhost:8080/",
          "height": 472
        },
        "id": "ByQhdIipCK1I",
        "outputId": "b4443148-0c3a-485a-fdce-0bcb6595d21d"
      },
      "execution_count": 18,
      "outputs": [
        {
          "output_type": "display_data",
          "data": {
            "text/plain": [
              "<Figure size 640x480 with 1 Axes>"
            ],
            "image/png": "[encoded data removed]"
          },
          "metadata": {}
        }
      ]
    },
    {
      "cell_type": "code",
      "source": [
        "mse_sparse = []\n",
        "p_sparse = []\n",
        "values_sparse = []"
      ],
      "metadata": {
        "id": "6Ou1KNhssZCb"
      },
      "execution_count": 19,
      "outputs": []
    },
    {
      "cell_type": "code",
      "source": [
        "#Testing the dataset\n",
        "test_examples = None\n",
        "\n",
        "with torch.no_grad():\n",
        "    for batch_features in test_loader:\n",
        "        batch_features = batch_features[0].to(device)\n",
        "        test_examples = batch_features.view(-1, 1024)\n",
        "\n",
        "        # test_examples = batch_features.view(batch_features.size(0), -1)\n",
        "        reconstruction = model(test_examples)\n",
        "        # print(reconstruction.shape)\n",
        "        # print(batch_features.shape)\n",
        "        # print(test_examples.shape)\n",
        "\n",
        "        ori = np.array(batch_features.cpu())\n",
        "        fi = np.array(reconstruction.cpu())\n",
        "\n",
        "\n",
        "\n",
        "        # print(ori.shape)\n",
        "\n",
        "\n",
        "        if fi.size == 3072 or len(test_examples) == 3 :\n",
        "            break\n",
        "        else:\n",
        "            fi = fi.reshape(50, 3 , 32 , 32)\n",
        "            evl = PSNR(ori, fi)\n",
        "\n",
        "            reshaped_tensor = reconstruction.view(50, 3 , 32, 32)\n",
        "            #storing ssim values\n",
        "            values_sparse.append(metric(batch_features, reshaped_tensor))\n",
        "            #storing mse and PSNR\n",
        "            mse_sparse.append(float(evl[1]))\n",
        "            p_sparse.append(float(evl[0]))\n",
        "        print(fi.shape)\n",
        "        print(len(test_examples))\n",
        "        # mse.append(float(torch.mean((test_examples - reconstruction) ** 2)))\n",
        "        # psnr.append(evl)\n"
      ],
      "metadata": {
        "id": "_A9TUTGA3als"
      },
      "execution_count": null,
      "outputs": []
    },
    {
      "cell_type": "code",
      "source": [
        "p_sparse"
      ],
      "metadata": {
        "id": "WJybvbDGv_T7"
      },
      "execution_count": null,
      "outputs": []
    },
    {
      "cell_type": "code",
      "source": [
        "sum_sparse = 0\n",
        "for i in range(len(p_sparse)):\n",
        "    sum_sparse += p_sparse[i]\n",
        "\n",
        "psnr_average = sum_sparse/len(p_sparse)\n",
        "print(f'PSNR_Sparse :{psnr_average}')"
      ],
      "metadata": {
        "colab": {
          "base_uri": "https://localhost:8080/"
        },
        "id": "QUmts1z_sggE",
        "outputId": "c6f174bb-94cc-4502-a1e4-e1dde57c1704"
      },
      "execution_count": 21,
      "outputs": [
        {
          "output_type": "stream",
          "name": "stdout",
          "text": [
            "PSNR_Sparse :66.28274958850136\n"
          ]
        }
      ]
    },
    {
      "cell_type": "code",
      "source": [
        "sum = 0\n",
        "for i in range(len(values_sparse)):\n",
        "    sum += values_sparse[i].item()\n",
        "\n",
        "ssim_average = sum/len(values_sparse)\n",
        "print(f'SSIM_SPARSE:{ssim_average}')"
      ],
      "metadata": {
        "colab": {
          "base_uri": "https://localhost:8080/"
        },
        "id": "fblNG2qTwyIH",
        "outputId": "62be1229-ebc0-499a-83b8-cb8445bed461"
      },
      "execution_count": 22,
      "outputs": [
        {
          "output_type": "stream",
          "name": "stdout",
          "text": [
            "SSIM_SPARSE:0.2813498921463514\n"
          ]
        }
      ]
    },
    {
      "cell_type": "code",
      "source": [
        "len(test_examples)"
      ],
      "metadata": {
        "colab": {
          "base_uri": "https://localhost:8080/"
        },
        "id": "XgHzBh-V6mL3",
        "outputId": "45f797da-22f7-4695-d982-fb3009e82d88"
      },
      "execution_count": 44,
      "outputs": [
        {
          "output_type": "execute_result",
          "data": {
            "text/plain": [
              "3"
            ]
          },
          "metadata": {},
          "execution_count": 44
        }
      ]
    },
    {
      "cell_type": "code",
      "source": [
        "with torch.no_grad():\n",
        "    number = 10\n",
        "\n",
        "    plt.figure(figsize=(20, 4))\n",
        "    for index in range(3):\n",
        "        # display original\n",
        "        ax = plt.subplot(2, number, index + 1)\n",
        "        plt.imshow(test_examples[index].cpu().numpy().reshape(32, 32))\n",
        "        plt.gray()\n",
        "        ax.get_xaxis().set_visible(False)\n",
        "        ax.get_yaxis().set_visible(False)\n",
        "\n",
        "        # display reconstruction\n",
        "        ax = plt.subplot(2, number, index + 1 + number)\n",
        "        plt.imshow(reconstruction[index].cpu().numpy().reshape(32,32))\n",
        "        plt.gray()\n",
        "        ax.get_xaxis().set_visible(False)\n",
        "        ax.get_yaxis().set_visible(False)\n",
        "    plt.show()"
      ],
      "metadata": {
        "colab": {
          "base_uri": "https://localhost:8080/",
          "height": 336
        },
        "id": "QatWwagK53No",
        "outputId": "5d49cae8-9749-4d13-ed69-f7c32b47581c"
      },
      "execution_count": 23,
      "outputs": [
        {
          "output_type": "display_data",
          "data": {
            "text/plain": [
              "<Figure size 2000x400 with 6 Axes>"
            ],
            "image/png": "[encoded data removed]"
          },
          "metadata": {}
        }
      ]
    },
    {
      "cell_type": "markdown",
      "source": [],
      "metadata": {
        "id": "HqlCK-fHGevx"
      }
    },
    {
      "cell_type": "markdown",
      "source": [
        "*   Sparsity encourages the autoencoder to learn a more compact and efficient representation of the input data.\n",
        "*   By enforcing sparsity, the autoencoder is encouraged to use only a subset of neurons for encoding, leading to a more concise representation.\n",
        "\n",
        "Since I had trained the model for only 10 epochs, there isnt significant improvement in ssim and psnr values but after inducing sparsity the SSIM and PSNR values should be improved.\n",
        "\n",
        "\n"
      ],
      "metadata": {
        "id": "MsgOESNVEWuW"
      }
    }
  ]
}